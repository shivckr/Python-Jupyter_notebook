{
  "nbformat": 4,
  "nbformat_minor": 0,
  "metadata": {
    "colab": {
      "name": " Premier League analysis with K-means.ipynb",
      "provenance": [],
      "collapsed_sections": [],
      "authorship_tag": "ABX9TyMf0Fe0dNHNJTIV1piw0eWg",
      "include_colab_link": true
    },
    "kernelspec": {
      "name": "python3",
      "display_name": "Python 3"
    }
  },
  "cells": [
    {
      "cell_type": "markdown",
      "metadata": {
        "id": "view-in-github",
        "colab_type": "text"
      },
      "source": [
        "<a href=\"https://colab.research.google.com/github/shivckr/Python-Projects-/blob/master/Premier_League_analysis_with_K_means.ipynb\" target=\"_parent\"><img src=\"https://colab.research.google.com/assets/colab-badge.svg\" alt=\"Open In Colab\"/></a>"
      ]
    },
    {
      "cell_type": "code",
      "metadata": {
        "id": "4WpQlvkth-4w",
        "colab_type": "code",
        "colab": {}
      },
      "source": [
        "# import python libraries \n",
        "import pandas as pd\n",
        "import matplotlib.pyplot as plt\n",
        "import seaborn as sns\n",
        "from sklearn.cluster import KMeans\n",
        "\n",
        "%matplotlib inline"
      ],
      "execution_count": 0,
      "outputs": []
    },
    {
      "cell_type": "markdown",
      "metadata": {
        "id": "ZhYdOw2simoD",
        "colab_type": "text"
      },
      "source": [
        "This dataset can be downloaded from kaggle: https://www.kaggle.com/zaeemnalla/premier-league#stats.csv"
      ]
    },
    {
      "cell_type": "markdown",
      "metadata": {
        "id": "F8fcCwMCjMmO",
        "colab_type": "text"
      },
      "source": [
        "The data was acquired from the Premier League website and is representative of seasons 2006/2007 to 2017/2018. "
      ]
    },
    {
      "cell_type": "code",
      "metadata": {
        "id": "aqGtJ0eViAh3",
        "colab_type": "code",
        "colab": {}
      },
      "source": [
        "train_data_link  = \"https://raw.githubusercontent.com/shivckr/border/master/stats.csv\" \n",
        "test_data_link = \"https://raw.githubusercontent.com/shivckr/border/master/results.csv\""
      ],
      "execution_count": 0,
      "outputs": []
    },
    {
      "cell_type": "code",
      "metadata": {
        "id": "BPueSv1ZifF0",
        "colab_type": "code",
        "colab": {}
      },
      "source": [
        "# loading dataset into dataframe\n",
        "train_data = pd.read_csv(train_data_link)\n",
        "test_data  = pd.read_csv(test_data_link)\n"
      ],
      "execution_count": 0,
      "outputs": []
    },
    {
      "cell_type": "code",
      "metadata": {
        "id": "kI_MSOUnjsgI",
        "colab_type": "code",
        "colab": {}
      },
      "source": [
        "#EDA\n",
        "#train_data.head(10)\n",
        "team_summary =train_data.groupby(\"team\").sum()\n",
        "# team_summary.head()\n",
        "\n"
      ],
      "execution_count": 0,
      "outputs": []
    },
    {
      "cell_type": "code",
      "metadata": {
        "id": "qrGg7JbJyyT0",
        "colab_type": "code",
        "colab": {}
      },
      "source": [
        "#team staristics \n",
        "# team_summary.describe()"
      ],
      "execution_count": 0,
      "outputs": []
    },
    {
      "cell_type": "code",
      "metadata": {
        "id": "er_P7ON7wPtv",
        "colab_type": "code",
        "outputId": "16b3f3c1-92a7-4fe1-bdf5-840218593bd0",
        "colab": {
          "base_uri": "https://localhost:8080/",
          "height": 326
        }
      },
      "source": [
        "#possible cluster with scatter plot  \n",
        "plt.scatter(team_summary.wins, team_summary.goals)\n",
        "plt.scatter(team_summary.losses, team_summary.goals)\n",
        "plt.title('Premier League Performance',fontsize=20)\n",
        "plt.xticks(fontsize=20)\n",
        "plt.yticks(fontsize=20)\n",
        "plt.xlabel('Premier League Wins')\n",
        "plt.ylabel('Premier League Goals')"
      ],
      "execution_count": 8,
      "outputs": [
        {
          "output_type": "execute_result",
          "data": {
            "text/plain": [
              "Text(0, 0.5, 'Premier League Goals')"
            ]
          },
          "metadata": {
            "tags": []
          },
          "execution_count": 8
        },
        {
          "output_type": "display_data",
          "data": {
            "image/png": "[encoded data removed]",
            "text/plain": [
              "<Figure size 432x288 with 1 Axes>"
            ]
          },
          "metadata": {
            "tags": []
          }
        }
      ]
    },
    {
      "cell_type": "code",
      "metadata": {
        "id": "9UIDxJbCzN48",
        "colab_type": "code",
        "outputId": "2578a250-f461-45f4-be1c-0ff9d2d3b069",
        "colab": {
          "base_uri": "https://localhost:8080/",
          "height": 458
        }
      },
      "source": [
        "#decide no. of cluster \n",
        "\n",
        "x = team_summary[['wins','goals']]\n",
        "\n",
        "def no_clusters(data,a,b):\n",
        "    '''to find the number of clusters for the k means algorithm'''\n",
        "    SSE = []\n",
        "    clusters = range(a,b)\n",
        "    for k in clusters:\n",
        "        SSE.append(KMeans(n_clusters=k).fit(data).inertia_)\n",
        "    plt.plot(clusters, SSE)\n",
        "    plt.xticks(clusters)\n",
        "    plt.xlabel('Number of clusters')\n",
        "    plt.ylabel('Sum of Squared Distances (SSD)')\n",
        "    plt.title('KMeans Elbow Method')\n",
        "    plt.rcParams['figure.figsize']=(8,7)\n",
        "    \n",
        "no_clusters(x,1,8)"
      ],
      "execution_count": 12,
      "outputs": [
        {
          "output_type": "display_data",
          "data": {
            "image/png": "[encoded data removed]",
            "text/plain": [
              "<Figure size 576x504 with 1 Axes>"
            ]
          },
          "metadata": {
            "tags": []
          }
        }
      ]
    },
    {
      "cell_type": "code",
      "metadata": {
        "id": "udmx-Lfi0sle",
        "colab_type": "code",
        "colab": {}
      },
      "source": [
        "#fit data into Kmeans model\n",
        "kM2 = KMeans(n_clusters=2, random_state = 1)\n",
        "team_summary['KMeans2'] = kM2.fit_predict(x)"
      ],
      "execution_count": 0,
      "outputs": []
    },
    {
      "cell_type": "code",
      "metadata": {
        "id": "jr9MBee06mYZ",
        "colab_type": "code",
        "outputId": "38cdf7c5-3bb8-429d-8191-c4c1a64ef621",
        "colab": {
          "base_uri": "https://localhost:8080/",
          "height": 34
        }
      },
      "source": [
        "team_summary.KMeans2.count()"
      ],
      "execution_count": 16,
      "outputs": [
        {
          "output_type": "execute_result",
          "data": {
            "text/plain": [
              "39"
            ]
          },
          "metadata": {
            "tags": []
          },
          "execution_count": 16
        }
      ]
    },
    {
      "cell_type": "code",
      "metadata": {
        "id": "mQiUv3uE3xnm",
        "colab_type": "code",
        "outputId": "e19ee0bc-7a79-4363-e551-f6ae9ab8550e",
        "colab": {
          "base_uri": "https://localhost:8080/",
          "height": 306
        }
      },
      "source": [
        "team_summary.head()"
      ],
      "execution_count": 23,
      "outputs": [
        {
          "output_type": "execute_result",
          "data": {
            "text/html": [
              "<div>\n",
              "<style scoped>\n",
              "    .dataframe tbody tr th:only-of-type {\n",
              "        vertical-align: middle;\n",
              "    }\n",
              "\n",
              "    .dataframe tbody tr th {\n",
              "        vertical-align: top;\n",
              "    }\n",
              "\n",
              "    .dataframe thead th {\n",
              "        text-align: right;\n",
              "    }\n",
              "</style>\n",
              "<table border=\"1\" class=\"dataframe\">\n",
              "  <thead>\n",
              "    <tr style=\"text-align: right;\">\n",
              "      <th></th>\n",
              "      <th>wins</th>\n",
              "      <th>losses</th>\n",
              "      <th>goals</th>\n",
              "      <th>total_yel_card</th>\n",
              "      <th>total_red_card</th>\n",
              "      <th>total_scoring_att</th>\n",
              "      <th>ontarget_scoring_att</th>\n",
              "      <th>hit_woodwork</th>\n",
              "      <th>att_hd_goal</th>\n",
              "      <th>att_pen_goal</th>\n",
              "      <th>att_freekick_goal</th>\n",
              "      <th>att_ibox_goal</th>\n",
              "      <th>att_obox_goal</th>\n",
              "      <th>goal_fastbreak</th>\n",
              "      <th>total_offside</th>\n",
              "      <th>clean_sheet</th>\n",
              "      <th>goals_conceded</th>\n",
              "      <th>saves</th>\n",
              "      <th>outfielder_block</th>\n",
              "      <th>interception</th>\n",
              "      <th>total_tackle</th>\n",
              "      <th>last_man_tackle</th>\n",
              "      <th>total_clearance</th>\n",
              "      <th>head_clearance</th>\n",
              "      <th>own_goals</th>\n",
              "      <th>penalty_conceded</th>\n",
              "      <th>pen_goals_conceded</th>\n",
              "      <th>total_pass</th>\n",
              "      <th>total_through_ball</th>\n",
              "      <th>total_long_balls</th>\n",
              "      <th>backward_pass</th>\n",
              "      <th>total_cross</th>\n",
              "      <th>corner_taken</th>\n",
              "      <th>touches</th>\n",
              "      <th>big_chance_missed</th>\n",
              "      <th>clearance_off_line</th>\n",
              "      <th>dispossessed</th>\n",
              "      <th>penalty_save</th>\n",
              "      <th>total_high_claim</th>\n",
              "      <th>punches</th>\n",
              "      <th>Kmv</th>\n",
              "      <th>KMeans2</th>\n",
              "    </tr>\n",
              "    <tr>\n",
              "      <th>team</th>\n",
              "      <th></th>\n",
              "      <th></th>\n",
              "      <th></th>\n",
              "      <th></th>\n",
              "      <th></th>\n",
              "      <th></th>\n",
              "      <th></th>\n",
              "      <th></th>\n",
              "      <th></th>\n",
              "      <th></th>\n",
              "      <th></th>\n",
              "      <th></th>\n",
              "      <th></th>\n",
              "      <th></th>\n",
              "      <th></th>\n",
              "      <th></th>\n",
              "      <th></th>\n",
              "      <th></th>\n",
              "      <th></th>\n",
              "      <th></th>\n",
              "      <th></th>\n",
              "      <th></th>\n",
              "      <th></th>\n",
              "      <th></th>\n",
              "      <th></th>\n",
              "      <th></th>\n",
              "      <th></th>\n",
              "      <th></th>\n",
              "      <th></th>\n",
              "      <th></th>\n",
              "      <th></th>\n",
              "      <th></th>\n",
              "      <th></th>\n",
              "      <th></th>\n",
              "      <th></th>\n",
              "      <th></th>\n",
              "      <th></th>\n",
              "      <th></th>\n",
              "      <th></th>\n",
              "      <th></th>\n",
              "      <th></th>\n",
              "      <th></th>\n",
              "    </tr>\n",
              "  </thead>\n",
              "  <tbody>\n",
              "    <tr>\n",
              "      <th>AFC Bournemouth</th>\n",
              "      <td>34.0</td>\n",
              "      <td>50.0</td>\n",
              "      <td>145.0</td>\n",
              "      <td>160.0</td>\n",
              "      <td>5.0</td>\n",
              "      <td>1381.0</td>\n",
              "      <td>461.0</td>\n",
              "      <td>37.0</td>\n",
              "      <td>20.0</td>\n",
              "      <td>13.0</td>\n",
              "      <td>1.0</td>\n",
              "      <td>128.0</td>\n",
              "      <td>18.0</td>\n",
              "      <td>2.0</td>\n",
              "      <td>171.0</td>\n",
              "      <td>23.0</td>\n",
              "      <td>195.0</td>\n",
              "      <td>324.0</td>\n",
              "      <td>416.0</td>\n",
              "      <td>1467.0</td>\n",
              "      <td>1821.0</td>\n",
              "      <td>5.0</td>\n",
              "      <td>3080.0</td>\n",
              "      <td>1665.0</td>\n",
              "      <td>6.0</td>\n",
              "      <td>14.0</td>\n",
              "      <td>8.0</td>\n",
              "      <td>50553.0</td>\n",
              "      <td>121.0</td>\n",
              "      <td>7244.0</td>\n",
              "      <td>7449.0</td>\n",
              "      <td>2084.0</td>\n",
              "      <td>632.0</td>\n",
              "      <td>73726.0</td>\n",
              "      <td>80.0</td>\n",
              "      <td>12.0</td>\n",
              "      <td>1268.0</td>\n",
              "      <td>5.0</td>\n",
              "      <td>131.0</td>\n",
              "      <td>53.0</td>\n",
              "      <td>0</td>\n",
              "      <td>0</td>\n",
              "    </tr>\n",
              "    <tr>\n",
              "      <th>Arsenal</th>\n",
              "      <td>255.0</td>\n",
              "      <td>94.0</td>\n",
              "      <td>861.0</td>\n",
              "      <td>685.0</td>\n",
              "      <td>40.0</td>\n",
              "      <td>7339.0</td>\n",
              "      <td>2652.0</td>\n",
              "      <td>206.0</td>\n",
              "      <td>143.0</td>\n",
              "      <td>52.0</td>\n",
              "      <td>18.0</td>\n",
              "      <td>765.0</td>\n",
              "      <td>97.0</td>\n",
              "      <td>60.0</td>\n",
              "      <td>1071.0</td>\n",
              "      <td>171.0</td>\n",
              "      <td>481.0</td>\n",
              "      <td>563.0</td>\n",
              "      <td>1155.0</td>\n",
              "      <td>7380.0</td>\n",
              "      <td>9298.0</td>\n",
              "      <td>112.0</td>\n",
              "      <td>12858.0</td>\n",
              "      <td>6406.0</td>\n",
              "      <td>21.0</td>\n",
              "      <td>64.0</td>\n",
              "      <td>51.0</td>\n",
              "      <td>245685.0</td>\n",
              "      <td>2304.0</td>\n",
              "      <td>22134.0</td>\n",
              "      <td>22985.0</td>\n",
              "      <td>10270.0</td>\n",
              "      <td>2953.0</td>\n",
              "      <td>347034.0</td>\n",
              "      <td>480.0</td>\n",
              "      <td>41.0</td>\n",
              "      <td>6011.0</td>\n",
              "      <td>11.0</td>\n",
              "      <td>678.0</td>\n",
              "      <td>269.0</td>\n",
              "      <td>1</td>\n",
              "      <td>1</td>\n",
              "    </tr>\n",
              "    <tr>\n",
              "      <th>Aston Villa</th>\n",
              "      <td>113.0</td>\n",
              "      <td>150.0</td>\n",
              "      <td>449.0</td>\n",
              "      <td>651.0</td>\n",
              "      <td>26.0</td>\n",
              "      <td>4561.0</td>\n",
              "      <td>1467.0</td>\n",
              "      <td>101.0</td>\n",
              "      <td>89.0</td>\n",
              "      <td>36.0</td>\n",
              "      <td>15.0</td>\n",
              "      <td>365.0</td>\n",
              "      <td>84.0</td>\n",
              "      <td>41.0</td>\n",
              "      <td>898.0</td>\n",
              "      <td>96.0</td>\n",
              "      <td>554.0</td>\n",
              "      <td>344.0</td>\n",
              "      <td>1533.0</td>\n",
              "      <td>5973.0</td>\n",
              "      <td>8143.0</td>\n",
              "      <td>58.0</td>\n",
              "      <td>13835.0</td>\n",
              "      <td>6831.0</td>\n",
              "      <td>24.0</td>\n",
              "      <td>54.0</td>\n",
              "      <td>46.0</td>\n",
              "      <td>137945.0</td>\n",
              "      <td>480.0</td>\n",
              "      <td>21792.0</td>\n",
              "      <td>13225.0</td>\n",
              "      <td>8762.0</td>\n",
              "      <td>2061.0</td>\n",
              "      <td>221450.0</td>\n",
              "      <td>202.0</td>\n",
              "      <td>59.0</td>\n",
              "      <td>3976.0</td>\n",
              "      <td>5.0</td>\n",
              "      <td>585.0</td>\n",
              "      <td>231.0</td>\n",
              "      <td>0</td>\n",
              "      <td>0</td>\n",
              "    </tr>\n",
              "    <tr>\n",
              "      <th>Birmingham City</th>\n",
              "      <td>29.0</td>\n",
              "      <td>48.0</td>\n",
              "      <td>121.0</td>\n",
              "      <td>201.0</td>\n",
              "      <td>7.0</td>\n",
              "      <td>1267.0</td>\n",
              "      <td>419.0</td>\n",
              "      <td>24.0</td>\n",
              "      <td>19.0</td>\n",
              "      <td>10.0</td>\n",
              "      <td>9.0</td>\n",
              "      <td>98.0</td>\n",
              "      <td>23.0</td>\n",
              "      <td>6.0</td>\n",
              "      <td>267.0</td>\n",
              "      <td>23.0</td>\n",
              "      <td>167.0</td>\n",
              "      <td>0.0</td>\n",
              "      <td>515.0</td>\n",
              "      <td>1865.0</td>\n",
              "      <td>2388.0</td>\n",
              "      <td>14.0</td>\n",
              "      <td>4905.0</td>\n",
              "      <td>2609.0</td>\n",
              "      <td>6.0</td>\n",
              "      <td>17.0</td>\n",
              "      <td>16.0</td>\n",
              "      <td>38206.0</td>\n",
              "      <td>241.0</td>\n",
              "      <td>7309.0</td>\n",
              "      <td>2221.0</td>\n",
              "      <td>2294.0</td>\n",
              "      <td>529.0</td>\n",
              "      <td>64871.0</td>\n",
              "      <td>30.0</td>\n",
              "      <td>20.0</td>\n",
              "      <td>1371.0</td>\n",
              "      <td>1.0</td>\n",
              "      <td>226.0</td>\n",
              "      <td>67.0</td>\n",
              "      <td>0</td>\n",
              "      <td>0</td>\n",
              "    </tr>\n",
              "    <tr>\n",
              "      <th>Blackburn Rovers</th>\n",
              "      <td>72.0</td>\n",
              "      <td>97.0</td>\n",
              "      <td>277.0</td>\n",
              "      <td>411.0</td>\n",
              "      <td>28.0</td>\n",
              "      <td>2876.0</td>\n",
              "      <td>927.0</td>\n",
              "      <td>70.0</td>\n",
              "      <td>65.0</td>\n",
              "      <td>22.0</td>\n",
              "      <td>9.0</td>\n",
              "      <td>233.0</td>\n",
              "      <td>44.0</td>\n",
              "      <td>10.0</td>\n",
              "      <td>625.0</td>\n",
              "      <td>50.0</td>\n",
              "      <td>354.0</td>\n",
              "      <td>22.0</td>\n",
              "      <td>813.0</td>\n",
              "      <td>3569.0</td>\n",
              "      <td>4668.0</td>\n",
              "      <td>48.0</td>\n",
              "      <td>9215.0</td>\n",
              "      <td>4109.0</td>\n",
              "      <td>11.0</td>\n",
              "      <td>36.0</td>\n",
              "      <td>25.0</td>\n",
              "      <td>76513.0</td>\n",
              "      <td>346.0</td>\n",
              "      <td>13459.0</td>\n",
              "      <td>3492.0</td>\n",
              "      <td>4842.0</td>\n",
              "      <td>1120.0</td>\n",
              "      <td>127563.0</td>\n",
              "      <td>81.0</td>\n",
              "      <td>42.0</td>\n",
              "      <td>2076.0</td>\n",
              "      <td>8.0</td>\n",
              "      <td>327.0</td>\n",
              "      <td>156.0</td>\n",
              "      <td>0</td>\n",
              "      <td>0</td>\n",
              "    </tr>\n",
              "  </tbody>\n",
              "</table>\n",
              "</div>"
            ],
            "text/plain": [
              "                   wins  losses  goals  ...  punches  Kmv  KMeans2\n",
              "team                                    ...                       \n",
              "AFC Bournemouth    34.0    50.0  145.0  ...     53.0    0        0\n",
              "Arsenal           255.0    94.0  861.0  ...    269.0    1        1\n",
              "Aston Villa       113.0   150.0  449.0  ...    231.0    0        0\n",
              "Birmingham City    29.0    48.0  121.0  ...     67.0    0        0\n",
              "Blackburn Rovers   72.0    97.0  277.0  ...    156.0    0        0\n",
              "\n",
              "[5 rows x 42 columns]"
            ]
          },
          "metadata": {
            "tags": []
          },
          "execution_count": 23
        }
      ]
    },
    {
      "cell_type": "code",
      "metadata": {
        "id": "u_QagUhqN9wo",
        "colab_type": "code",
        "colab": {}
      },
      "source": [
        "#sns.factorplot(team_summary, kind=\"count\", x= \"Kmv\", y=team_summary.KMeans2.count())"
      ],
      "execution_count": 0,
      "outputs": []
    }
  ]
}
{
  "nbformat": 4,
  "nbformat_minor": 0,
  "metadata": {
    "anaconda-cloud": {},
    "kernelspec": {
      "display_name": "Python [Root]",
      "language": "python",
      "name": "Python [Root]"
    },
    "language_info": {
      "codemirror_mode": {
        "name": "ipython",
        "version": 3
      },
      "file_extension": ".py",
      "mimetype": "text/x-python",
      "name": "python",
      "nbconvert_exporter": "python",
      "pygments_lexer": "ipython3",
      "version": "3.5.2"
    },
    "colab": {
      "name": "1. Exploring_Keras_Tokenizer_Class.ipynb",
      "provenance": [],
      "include_colab_link": true
    }
  },
  "cells": [
    {
      "cell_type": "markdown",
      "metadata": {
        "id": "view-in-github",
        "colab_type": "text"
      },
      "source": [
        "<a href=\"https://colab.research.google.com/github/shivckr/Python-Projects-/blob/master/1_Exploring_Keras_Tokenizer_Class.ipynb\" target=\"_parent\"><img src=\"https://colab.research.google.com/assets/colab-badge.svg\" alt=\"Open In Colab\"/></a>"
      ]
    },
    {
      "cell_type": "code",
      "metadata": {
        "id": "9PbJe8jYsh81",
        "colab_type": "code",
        "colab": {
          "base_uri": "https://localhost:8080/",
          "height": 34
        },
        "outputId": "383f2cf8-c2f4-4ed0-abd1-2bb4d782f7df"
      },
      "source": [
        "import tensorflow as tf\n",
        "print(tf.__version__)"
      ],
      "execution_count": 13,
      "outputs": [
        {
          "output_type": "stream",
          "text": [
            "1.15.0\n"
          ],
          "name": "stdout"
        }
      ]
    },
    {
      "cell_type": "markdown",
      "metadata": {
        "id": "IjIprDFskOjm",
        "colab_type": "text"
      },
      "source": [
        "# Build Data"
      ]
    },
    {
      "cell_type": "code",
      "metadata": {
        "id": "nKa8mCFpkOjr",
        "colab_type": "code",
        "colab": {}
      },
      "source": [
        "documents = ['Natural language processing (NLP) is a subfield of linguistics, computer science, information engineering, and artificial intelligence concerned with the interactions between computers and human (natural) languages, in particular how to program computers to process and analyze large amounts of natural language data.',\n",
        "             \n",
        "            'Challenges in natural language processing frequently involve speech recognition, natural language understanding, and natural language generation.']"
      ],
      "execution_count": 0,
      "outputs": []
    },
    {
      "cell_type": "markdown",
      "metadata": {
        "id": "h9TdyIg0kOjz",
        "colab_type": "text"
      },
      "source": [
        "# Build Tokenizer"
      ]
    },
    {
      "cell_type": "code",
      "metadata": {
        "id": "Dad7cKL6kOj1",
        "colab_type": "code",
        "colab": {}
      },
      "source": [
        "\n",
        "from tensorflow.python.keras.preprocessing.text import Tokenizer"
      ],
      "execution_count": 0,
      "outputs": []
    },
    {
      "cell_type": "markdown",
      "metadata": {
        "id": "nEKM7yQQkOj8",
        "colab_type": "text"
      },
      "source": [
        "Initialize and fit the text"
      ]
    },
    {
      "cell_type": "code",
      "metadata": {
        "id": "2W0FyOpukOj-",
        "colab_type": "code",
        "colab": {}
      },
      "source": [
        "t = Tokenizer() "
      ],
      "execution_count": 0,
      "outputs": []
    },
    {
      "cell_type": "code",
      "metadata": {
        "id": "NufNxh-BkOkF",
        "colab_type": "code",
        "colab": {}
      },
      "source": [
        "t.fit_on_texts(documents)"
      ],
      "execution_count": 0,
      "outputs": []
    },
    {
      "cell_type": "markdown",
      "metadata": {
        "id": "bnT6Sq9-kOkM",
        "colab_type": "text"
      },
      "source": [
        "Lets look into Tokenizer"
      ]
    },
    {
      "cell_type": "code",
      "metadata": {
        "id": "SO6jQLdukOkO",
        "colab_type": "code",
        "colab": {
          "base_uri": "https://localhost:8080/",
          "height": 714
        },
        "outputId": "588001da-6fe7-4844-ea18-fa73b84e4883"
      },
      "source": [
        "t.word_counts  #Each word and how many times they appeared across all docs"
      ],
      "execution_count": 5,
      "outputs": [
        {
          "output_type": "execute_result",
          "data": {
            "text/plain": [
              "OrderedDict([('natural', 6),\n",
              "             ('language', 5),\n",
              "             ('processing', 2),\n",
              "             ('nlp', 1),\n",
              "             ('is', 1),\n",
              "             ('a', 1),\n",
              "             ('subfield', 1),\n",
              "             ('of', 2),\n",
              "             ('linguistics', 1),\n",
              "             ('computer', 1),\n",
              "             ('science', 1),\n",
              "             ('information', 1),\n",
              "             ('engineering', 1),\n",
              "             ('and', 4),\n",
              "             ('artificial', 1),\n",
              "             ('intelligence', 1),\n",
              "             ('concerned', 1),\n",
              "             ('with', 1),\n",
              "             ('the', 1),\n",
              "             ('interactions', 1),\n",
              "             ('between', 1),\n",
              "             ('computers', 2),\n",
              "             ('human', 1),\n",
              "             ('languages', 1),\n",
              "             ('in', 2),\n",
              "             ('particular', 1),\n",
              "             ('how', 1),\n",
              "             ('to', 2),\n",
              "             ('program', 1),\n",
              "             ('process', 1),\n",
              "             ('analyze', 1),\n",
              "             ('large', 1),\n",
              "             ('amounts', 1),\n",
              "             ('data', 1),\n",
              "             ('challenges', 1),\n",
              "             ('frequently', 1),\n",
              "             ('involve', 1),\n",
              "             ('speech', 1),\n",
              "             ('recognition', 1),\n",
              "             ('understanding', 1),\n",
              "             ('generation', 1)])"
            ]
          },
          "metadata": {
            "tags": []
          },
          "execution_count": 5
        }
      ]
    },
    {
      "cell_type": "code",
      "metadata": {
        "id": "UpbuNg40kOka",
        "colab_type": "code",
        "colab": {},
        "outputId": "064a1c16-9e5a-4f7a-efe8-1a4e7c54b62c"
      },
      "source": [
        "t.document_count #Number of documents Tokenizer got fit on"
      ],
      "execution_count": 0,
      "outputs": [
        {
          "output_type": "execute_result",
          "data": {
            "text/plain": [
              "2"
            ]
          },
          "metadata": {
            "tags": []
          },
          "execution_count": 6
        }
      ]
    },
    {
      "cell_type": "code",
      "metadata": {
        "id": "b2yCS1A8kOkh",
        "colab_type": "code",
        "colab": {
          "base_uri": "https://localhost:8080/",
          "height": 714
        },
        "outputId": "89a89941-7e1c-4f46-fac7-6be87ab8bc9c"
      },
      "source": [
        "t.word_index #Unique index of each word in Tokenizer"
      ],
      "execution_count": 6,
      "outputs": [
        {
          "output_type": "execute_result",
          "data": {
            "text/plain": [
              "{'a': 11,\n",
              " 'amounts': 33,\n",
              " 'analyze': 31,\n",
              " 'and': 3,\n",
              " 'artificial': 18,\n",
              " 'between': 24,\n",
              " 'challenges': 35,\n",
              " 'computer': 14,\n",
              " 'computers': 6,\n",
              " 'concerned': 20,\n",
              " 'data': 34,\n",
              " 'engineering': 17,\n",
              " 'frequently': 36,\n",
              " 'generation': 41,\n",
              " 'how': 28,\n",
              " 'human': 25,\n",
              " 'in': 7,\n",
              " 'information': 16,\n",
              " 'intelligence': 19,\n",
              " 'interactions': 23,\n",
              " 'involve': 37,\n",
              " 'is': 10,\n",
              " 'language': 2,\n",
              " 'languages': 26,\n",
              " 'large': 32,\n",
              " 'linguistics': 13,\n",
              " 'natural': 1,\n",
              " 'nlp': 9,\n",
              " 'of': 5,\n",
              " 'particular': 27,\n",
              " 'process': 30,\n",
              " 'processing': 4,\n",
              " 'program': 29,\n",
              " 'recognition': 39,\n",
              " 'science': 15,\n",
              " 'speech': 38,\n",
              " 'subfield': 12,\n",
              " 'the': 22,\n",
              " 'to': 8,\n",
              " 'understanding': 40,\n",
              " 'with': 21}"
            ]
          },
          "metadata": {
            "tags": []
          },
          "execution_count": 6
        }
      ]
    },
    {
      "cell_type": "code",
      "metadata": {
        "id": "Bs0T2-rrkOkn",
        "colab_type": "code",
        "colab": {
          "base_uri": "https://localhost:8080/",
          "height": 731
        },
        "outputId": "60a37b9c-4ee4-426c-eb33-7c48820ba0d9"
      },
      "source": [
        "t.word_docs #How many documents a word appeared in."
      ],
      "execution_count": 9,
      "outputs": [
        {
          "output_type": "execute_result",
          "data": {
            "text/plain": [
              "defaultdict(int,\n",
              "            {'a': 1,\n",
              "             'amounts': 1,\n",
              "             'analyze': 1,\n",
              "             'and': 2,\n",
              "             'artificial': 1,\n",
              "             'between': 1,\n",
              "             'challenges': 1,\n",
              "             'computer': 1,\n",
              "             'computers': 1,\n",
              "             'concerned': 1,\n",
              "             'data': 1,\n",
              "             'engineering': 1,\n",
              "             'frequently': 1,\n",
              "             'generation': 1,\n",
              "             'how': 1,\n",
              "             'human': 1,\n",
              "             'in': 2,\n",
              "             'information': 1,\n",
              "             'intelligence': 1,\n",
              "             'interactions': 1,\n",
              "             'involve': 1,\n",
              "             'is': 1,\n",
              "             'language': 2,\n",
              "             'languages': 1,\n",
              "             'large': 1,\n",
              "             'linguistics': 1,\n",
              "             'natural': 2,\n",
              "             'nlp': 1,\n",
              "             'of': 1,\n",
              "             'particular': 1,\n",
              "             'process': 1,\n",
              "             'processing': 2,\n",
              "             'program': 1,\n",
              "             'recognition': 1,\n",
              "             'science': 1,\n",
              "             'speech': 1,\n",
              "             'subfield': 1,\n",
              "             'the': 1,\n",
              "             'to': 1,\n",
              "             'understanding': 1,\n",
              "             'with': 1})"
            ]
          },
          "metadata": {
            "tags": []
          },
          "execution_count": 9
        }
      ]
    },
    {
      "cell_type": "markdown",
      "metadata": {
        "id": "oR5MRExmkOkv",
        "colab_type": "text"
      },
      "source": [
        "# Converting docs to Matrix"
      ]
    },
    {
      "cell_type": "code",
      "metadata": {
        "id": "pteXuPMikOkx",
        "colab_type": "code",
        "colab": {
          "base_uri": "https://localhost:8080/",
          "height": 119
        },
        "outputId": "94471167-3fcc-4ca2-9736-0f25ce0b5ecc"
      },
      "source": [
        "t.texts_to_matrix(documents)"
      ],
      "execution_count": 10,
      "outputs": [
        {
          "output_type": "execute_result",
          "data": {
            "text/plain": [
              "array([[0., 1., 1., 1., 1., 1., 1., 1., 1., 1., 1., 1., 1., 1., 1., 1.,\n",
              "        1., 1., 1., 1., 1., 1., 1., 1., 1., 1., 1., 1., 1., 1., 1., 1.,\n",
              "        1., 1., 1., 0., 0., 0., 0., 0., 0., 0.],\n",
              "       [0., 1., 1., 1., 1., 0., 0., 1., 0., 0., 0., 0., 0., 0., 0., 0.,\n",
              "        0., 0., 0., 0., 0., 0., 0., 0., 0., 0., 0., 0., 0., 0., 0., 0.,\n",
              "        0., 0., 0., 1., 1., 1., 1., 1., 1., 1.]])"
            ]
          },
          "metadata": {
            "tags": []
          },
          "execution_count": 10
        }
      ]
    },
    {
      "cell_type": "code",
      "metadata": {
        "id": "Khxp9jWAkOk3",
        "colab_type": "code",
        "colab": {
          "base_uri": "https://localhost:8080/",
          "height": 119
        },
        "outputId": "00c77bc7-a00f-4a3f-aea8-6fb596154798"
      },
      "source": [
        "t.texts_to_matrix(documents,mode='count')"
      ],
      "execution_count": 11,
      "outputs": [
        {
          "output_type": "execute_result",
          "data": {
            "text/plain": [
              "array([[0., 3., 2., 3., 1., 2., 2., 1., 2., 1., 1., 1., 1., 1., 1., 1.,\n",
              "        1., 1., 1., 1., 1., 1., 1., 1., 1., 1., 1., 1., 1., 1., 1., 1.,\n",
              "        1., 1., 1., 0., 0., 0., 0., 0., 0., 0.],\n",
              "       [0., 3., 3., 1., 1., 0., 0., 1., 0., 0., 0., 0., 0., 0., 0., 0.,\n",
              "        0., 0., 0., 0., 0., 0., 0., 0., 0., 0., 0., 0., 0., 0., 0., 0.,\n",
              "        0., 0., 0., 1., 1., 1., 1., 1., 1., 1.]])"
            ]
          },
          "metadata": {
            "tags": []
          },
          "execution_count": 11
        }
      ]
    },
    {
      "cell_type": "code",
      "metadata": {
        "id": "IlPaoUZNkOk9",
        "colab_type": "code",
        "colab": {
          "base_uri": "https://localhost:8080/",
          "height": 323
        },
        "outputId": "193127bf-246c-4c08-bd15-20889fedf34f"
      },
      "source": [
        "t.texts_to_matrix(documents,mode='tfidf')"
      ],
      "execution_count": 12,
      "outputs": [
        {
          "output_type": "execute_result",
          "data": {
            "text/plain": [
              "array([[0.        , 1.07202493, 0.86490296, 1.07202493, 0.51082562,\n",
              "        1.17360019, 1.17360019, 0.51082562, 1.17360019, 0.69314718,\n",
              "        0.69314718, 0.69314718, 0.69314718, 0.69314718, 0.69314718,\n",
              "        0.69314718, 0.69314718, 0.69314718, 0.69314718, 0.69314718,\n",
              "        0.69314718, 0.69314718, 0.69314718, 0.69314718, 0.69314718,\n",
              "        0.69314718, 0.69314718, 0.69314718, 0.69314718, 0.69314718,\n",
              "        0.69314718, 0.69314718, 0.69314718, 0.69314718, 0.69314718,\n",
              "        0.        , 0.        , 0.        , 0.        , 0.        ,\n",
              "        0.        , 0.        ],\n",
              "       [0.        , 1.07202493, 1.07202493, 0.51082562, 0.51082562,\n",
              "        0.        , 0.        , 0.51082562, 0.        , 0.        ,\n",
              "        0.        , 0.        , 0.        , 0.        , 0.        ,\n",
              "        0.        , 0.        , 0.        , 0.        , 0.        ,\n",
              "        0.        , 0.        , 0.        , 0.        , 0.        ,\n",
              "        0.        , 0.        , 0.        , 0.        , 0.        ,\n",
              "        0.        , 0.        , 0.        , 0.        , 0.        ,\n",
              "        0.69314718, 0.69314718, 0.69314718, 0.69314718, 0.69314718,\n",
              "        0.69314718, 0.69314718]])"
            ]
          },
          "metadata": {
            "tags": []
          },
          "execution_count": 12
        }
      ]
    },
    {
      "cell_type": "code",
      "metadata": {
        "id": "_ZBe9mR7kOlD",
        "colab_type": "code",
        "colab": {}
      },
      "source": [
        ""
      ],
      "execution_count": 0,
      "outputs": []
    }
  ]
}
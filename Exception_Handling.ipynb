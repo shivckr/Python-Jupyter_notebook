{
  "nbformat": 4,
  "nbformat_minor": 0,
  "metadata": {
    "colab": {
      "name": "Exception Handling.ipynb",
      "provenance": [],
      "authorship_tag": "ABX9TyOgEbD6Uy427TOh+60LVaRd",
      "include_colab_link": true
    },
    "kernelspec": {
      "name": "python3",
      "display_name": "Python 3"
    }
  },
  "cells": [
    {
      "cell_type": "markdown",
      "metadata": {
        "id": "view-in-github",
        "colab_type": "text"
      },
      "source": [
        "<a href=\"https://colab.research.google.com/github/shivckr/Python-Projects-/blob/master/Exception_Handling.ipynb\" target=\"_parent\"><img src=\"https://colab.research.google.com/assets/colab-badge.svg\" alt=\"Open In Colab\"/></a>"
      ]
    },
    {
      "cell_type": "code",
      "metadata": {
        "id": "bI-WYJjV7Otd",
        "colab_type": "code",
        "colab": {}
      },
      "source": [
        "import sys\n",
        "list = [1.1, 2,0,'a']\n",
        "for e in list:\n",
        "   try:\n",
        "     print(\"Exception Handling: 'e' = {}\".format(e))\n",
        "     print(\"ratio of {} with {} is {}\".format(1,e,1/e)) # used .format func()\n",
        "  #  except:\n",
        "  #    print(\"Errrr!!\",sys.exc_info(),\"found\")\n",
        "  #    print(\"next executable statment\")\n",
        "  #    print (\"exception block will excecute when there is exception found in try block\")\n",
        "  #    print(\"it is recommneded to write multiple exception block\")\n",
        "   except(ValueError):\n",
        "     print(\"this is value error\")\n",
        "   except(TypeError):\n",
        "     print(\"this is type error\")\n",
        "   except(ZeroDivisionError):\n",
        "      print(\"this is division by zero error\")\n",
        "   print(\"***finally block is optional and used to release external resources***\\n\")\n"
      ],
      "execution_count": 0,
      "outputs": []
    }
  ]
}
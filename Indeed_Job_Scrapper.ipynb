{
  "nbformat": 4,
  "nbformat_minor": 0,
  "metadata": {
    "kernelspec": {
      "display_name": "Python 3",
      "language": "python",
      "name": "python3"
    },
    "language_info": {
      "codemirror_mode": {
        "name": "ipython",
        "version": 3
      },
      "file_extension": ".py",
      "mimetype": "text/x-python",
      "name": "python",
      "nbconvert_exporter": "python",
      "pygments_lexer": "ipython3",
      "version": "3.6.5"
    },
    "colab": {
      "name": "Indeed_Job_Scrapper.ipynb",
      "provenance": [],
      "include_colab_link": true
    }
  },
  "cells": [
    {
      "cell_type": "markdown",
      "metadata": {
        "id": "view-in-github",
        "colab_type": "text"
      },
      "source": [
        "<a href=\"https://colab.research.google.com/github/shivckr/Python-Projects-/blob/master/Indeed_Job_Scrapper.ipynb\" target=\"_parent\"><img src=\"https://colab.research.google.com/assets/colab-badge.svg\" alt=\"Open In Colab\"/></a>"
      ]
    },
    {
      "cell_type": "markdown",
      "metadata": {
        "id": "5XsOje1pn8dy",
        "colab_type": "text"
      },
      "source": [
        "<h1>Web Scraping Indeed for Key Data Science Job Skills </h1>"
      ]
    },
    {
      "cell_type": "markdown",
      "metadata": {
        "id": "cfHi6K_Gn8d3",
        "colab_type": "text"
      },
      "source": [
        "# Cleaning a Website"
      ]
    },
    {
      "cell_type": "code",
      "metadata": {
        "id": "iZJdszZgn8d5",
        "colab_type": "code",
        "colab": {}
      },
      "source": [
        "from bs4 import BeautifulSoup # For HTML parsing\n",
        "import urllib.request # Website connections\n",
        "import re # Regular expressions\n",
        "from time import sleep # To prevent overwhelming the server between connections\n",
        "from collections import Counter # Keep track of our term counts\n",
        "from nltk.corpus import stopwords # Filter out stopwords, such as 'the', 'or', 'and'\n",
        "import pandas as pd # For converting results to a dataframe and bar chart plots\n",
        "%matplotlib inline"
      ],
      "execution_count": 0,
      "outputs": []
    },
    {
      "cell_type": "markdown",
      "metadata": {
        "id": "n7WN6qDVn8eB",
        "colab_type": "text"
      },
      "source": [
        "Now create our first website parsing function"
      ]
    },
    {
      "cell_type": "code",
      "metadata": {
        "id": "oqAEESxOn8eD",
        "colab_type": "code",
        "colab": {}
      },
      "source": [
        "def text_cleaner(website):\n",
        "    '''\n",
        "    This function just cleans up the raw html so that I can look at it.\n",
        "    Inputs: a URL to investigate\n",
        "    Outputs: Cleaned text only\n",
        "    '''\n",
        "    try:\n",
        "        site = urllib.request.urlopen(website).read() # Connect to the job posting\n",
        "    except: \n",
        "        return   # Need this in case the website isn't there anymore or some other weird connection problem \n",
        "    \n",
        "    soup_obj = BeautifulSoup(site) # Get the html from the site\n",
        "    \n",
        "    for script in soup_obj([\"script\", \"style\"]):\n",
        "        script.extract() # Remove these two elements from the BS4 object\n",
        "    \n",
        "    \n",
        "\n",
        "    text = soup_obj.get_text() # Get the text from this\n",
        "    \n",
        "        \n",
        "    \n",
        "    lines = (line.strip() for line in text.splitlines()) # break into lines\n",
        "    \n",
        "        \n",
        "        \n",
        "    chunks = (phrase.strip() for line in lines for phrase in line.split(\"  \")) # break multi-headlines into a line each\n",
        "    \n",
        "    def chunk_space(chunk):\n",
        "        chunk_out = chunk + ' ' # Need to fix spacing issue\n",
        "        return chunk_out  \n",
        "        \n",
        "    \n",
        "    text = ''.join(chunk_space(chunk) for chunk in chunks if chunk).encode('utf-8') # Get rid of all blank lines and ends of line\n",
        "        \n",
        "        \n",
        "    # Now clean out all of the unicode junk (this line works great!!!)\n",
        "        \n",
        "    try:\n",
        "        text = text.decode('unicode_escape').encode('ascii', 'ignore') # Need this as some websites aren't formatted\n",
        "    except:                                                            # in a way that this works, can occasionally throw\n",
        "        return                                                         # an exception\n",
        "       \n",
        "        \n",
        "    text = re.sub(\"[^a-zA-Z.+3]\",\" \", text.decode('utf-8'))  # Now get rid of any terms that aren't words (include 3 for d3.js)\n",
        "                                                # Also include + for C++\n",
        "        \n",
        "       \n",
        "    text = text.lower().split()  # Go to lower case and split them apart\n",
        "        \n",
        "        \n",
        "    stop_words = set(stopwords.words(\"english\")) # Filter out any stop words\n",
        "    text = [w for w in text if not w in stop_words]\n",
        "        \n",
        "        \n",
        "        \n",
        "    text = list(set(text)) # Last, just get the set of these. Ignore counts (we are just looking at whether a term existed\n",
        "                            # or not on the website)\n",
        "        \n",
        "    return text"
      ],
      "execution_count": 0,
      "outputs": []
    },
    {
      "cell_type": "code",
      "metadata": {
        "id": "qwCl9-D6n8eK",
        "colab_type": "code",
        "colab": {},
        "outputId": "ab747b5f-60cb-4602-e8fb-e87f631e18b1"
      },
      "source": [
        "sample = text_cleaner('http://www.indeed.com/viewjob?jk=5505e59f8e5a32a4&q=%22data+scientist%22&tk=19ftfgsmj19ti0l3&from=web&advn=1855944161169178&sjdu=QwrRXKrqZ3CNX5W-O9jEvWC1RT2wMYkGnZrqGdrncbKqQ7uwTLXzT1_ME9WQ4M-7om7mrHAlvyJT8cA_14IV5w&pub=pub-indeed')\n",
        "print (sample[:20]) "
      ],
      "execution_count": 0,
      "outputs": [
        {
          "output_type": "stream",
          "text": [
            "['problems', 'python', 'physics', 'consumer', 'wajobs', 'plan', 'zip', 'mixture', 'mathematics', 'pig', 'picture', 'programs', 'analytics', 'resume', 'unparalleled', 'julia', 'unique', 'termslet', 'within', 'find']\n"
          ],
          "name": "stdout"
        },
        {
          "output_type": "stream",
          "text": [
            "C:\\Users\\tejks\\anaconda\\lib\\site-packages\\bs4\\__init__.py:181: UserWarning: No parser was explicitly specified, so I'm using the best available HTML parser for this system (\"lxml\"). This usually isn't a problem, but if you run this code on another system, or in a different virtual environment, it may use a different parser and behave differently.\n",
            "\n",
            "The code that caused this warning is on line 193 of the file C:\\Users\\tejks\\anaconda\\lib\\runpy.py. To get rid of this warning, change code that looks like this:\n",
            "\n",
            " BeautifulSoup(YOUR_MARKUP})\n",
            "\n",
            "to this:\n",
            "\n",
            " BeautifulSoup(YOUR_MARKUP, \"lxml\")\n",
            "\n",
            "  markup_type=markup_type))\n"
          ],
          "name": "stderr"
        }
      ]
    },
    {
      "cell_type": "markdown",
      "metadata": {
        "id": "_RA4CSyxn8eT",
        "colab_type": "text"
      },
      "source": [
        "As you can see in the code above, a lot of cleaning for the raw html is necessary to get the final terms we are looking for. It extracts the relevant portions of the html, gets the text, removes blank lines and line endings, removes unicode, and filters with regular expressions to include only words. To see what the final result looks like, let’s try calling this function on a sample job posting. "
      ]
    },
    {
      "cell_type": "markdown",
      "metadata": {
        "id": "PSzlaAhTn8eV",
        "colab_type": "text"
      },
      "source": [
        "# Accessing the Job Postings"
      ]
    },
    {
      "cell_type": "code",
      "metadata": {
        "id": "DGDswDgcn8eX",
        "colab_type": "code",
        "colab": {}
      },
      "source": [
        "def skills_info(city = None, state = None):\n",
        "    '''\n",
        "    This function will take a desired city/state and look for all new job postings\n",
        "    on Indeed.com. It will crawl all of the job postings and keep track of how many\n",
        "    use a preset list of typical data science skills. The final percentage for each skill\n",
        "    is then displayed at the end of the collation. \n",
        "        \n",
        "    Inputs: The location's city and state. These are optional. If no city/state is input, \n",
        "    the function will assume a national search (this can take a while!!!).\n",
        "    Input the city/state as strings, such as skills_info('Chicago', 'IL').\n",
        "    Use a two letter abbreviation for the state.\n",
        "    \n",
        "    Output: A bar chart showing the most commonly desired skills in the job market for \n",
        "    a data scientist. \n",
        "    '''\n",
        "        \n",
        "    final_job = 'data+scientist' # searching for data scientist exact fit(\"data scientist\" on Indeed search)\n",
        "    \n",
        "    # Make sure the city specified works properly if it has more than one word (such as San Francisco)\n",
        "    if city is not None:\n",
        "        final_city = city.split() \n",
        "        final_city = '+'.join(word for word in final_city)\n",
        "        final_site_list = ['http://www.indeed.com/jobs?q=%22', final_job, '%22&l=', final_city,\n",
        "                    '%2C+', state] # Join all of our strings together so that indeed will search correctly\n",
        "    else:\n",
        "        final_site_list = ['http://www.indeed.com/jobs?q=\"', final_job, '\"']\n",
        "\n",
        "    final_site = ''.join(final_site_list) # Merge the html address together into one string\n",
        "\n",
        "    \n",
        "    base_url = 'http://www.indeed.com'\n",
        "    \n",
        "    \n",
        "    try:\n",
        "        html = urllib.request.urlopen(final_site).read() # Open up the front page of our search first\n",
        "    except:\n",
        "        'That city/state combination did not have any jobs. Exiting . . .' # In case the city is invalid\n",
        "        return\n",
        "    soup = BeautifulSoup(html) # Get the html from the first page\n",
        "    \n",
        "    # Now find out how many jobs there were\n",
        "    \n",
        "    num_jobs_area = soup.find(id = 'searchCount').string.encode('utf-8') # Now extract the total number of jobs found\n",
        "                                                                        # The 'searchCount' object has this\n",
        "    print (num_jobs_area)\n",
        "    job_numbers = re.findall('\\d+', num_jobs_area.decode('utf-8')) # Extract the total jobs found from the search result\n",
        "    print (job_numbers)\n",
        "    \n",
        "    if len(job_numbers) > 1: # Have a total number of jobs greater than 1000\n",
        "        total_num_jobs = (int(job_numbers[1])*10)\n",
        "    else:\n",
        "        total_num_jobs = int(job_numbers[0]) \n",
        "    \n",
        "    city_title = city\n",
        "    if city is None:\n",
        "        city_title = 'Nationwide'\n",
        "        \n",
        "    print ('There were', total_num_jobs, 'jobs found,', city_title) # Display how many jobs were found\n",
        "    \n",
        "    num_pages = total_num_jobs/10 # This will be how we know the number of times we need to iterate over each new\n",
        "                                      # search result page\n",
        "    job_descriptions = [] # Store all our descriptions in this list\n",
        "    \n",
        "    for i in range(1,int(num_pages)+1): # Loop through all of our search result pages\n",
        "        print ('Getting page', i)\n",
        "        start_num = str(i*10) # Assign the multiplier of 10 to view the pages we want\n",
        "        current_page = ''.join([final_site, '&start=', start_num])\n",
        "        # Now that we can view the correct 10 job returns, start collecting the text samples from each\n",
        "            \n",
        "        html_page = urllib.request.urlopen(current_page).read() # Get the page\n",
        "            \n",
        "        page_obj = BeautifulSoup(html_page) # Locate all of the job links\n",
        "        job_link_area = page_obj.find(id = 'resultsCol') # The center column on the page where the job postings exist\n",
        "            \n",
        "        \n",
        "        for link in job_link_area.find_all('a'):\n",
        "            if link.get('href') is not None:\n",
        "                job_URLS = [base_url + link.get('href')]\n",
        "         \n",
        "        job_URLS = [base_url + link.get('href') for link in job_link_area.find_all('a') if link.get('href') is not None ] # Get the URLS for the jobs\n",
        "        job_URLS = list(filter(lambda x:'clk' in x, job_URLS)) # Now get just the job related URLS\n",
        "        print (job_URLS)    \n",
        "        \n",
        "        for j in range(0,len(job_URLS)):\n",
        "            final_description = text_cleaner(job_URLS[j])\n",
        "            if final_description: # So that we only append when the website was accessed correctly\n",
        "                job_descriptions.append(final_description)\n",
        "            sleep(1) #If you have a very fast internet connection you could hit the server a lot! \n",
        "        \n",
        "    print ('Done with collecting the job postings!')    \n",
        "    print ('There were', len(job_descriptions), 'jobs successfully found.')\n",
        "    \n",
        "    \n",
        "    doc_frequency = Counter() # This will create a full counter of our terms. \n",
        "    [doc_frequency.update(item) for item in job_descriptions] # List comp\n",
        "    \n",
        "    # Now we can just look at our final dict list inside doc_frequency\n",
        "    \n",
        "    # Obtain our key terms and store them in a dict. These are the key data science skills we are looking for\n",
        "    \n",
        "    prog_lang_dict = Counter({'R':doc_frequency['r'], 'Python':doc_frequency['python'],\n",
        "                    'Java':doc_frequency['java'], 'C++':doc_frequency['c++'],\n",
        "                    'Ruby':doc_frequency['ruby'],\n",
        "                    'Perl':doc_frequency['perl'], 'Matlab':doc_frequency['matlab'],\n",
        "                    'JavaScript':doc_frequency['javascript'], 'Scala': doc_frequency['scala']})\n",
        "                      \n",
        "    analysis_tool_dict = Counter({'Excel':doc_frequency['excel'],  'Tableau':doc_frequency['tableau'],\n",
        "                        'D3.js':doc_frequency['d3.js'], 'SAS':doc_frequency['sas'],\n",
        "                        'SPSS':doc_frequency['spss'], 'D3':doc_frequency['d3']})  \n",
        "\n",
        "    hadoop_dict = Counter({'Hadoop':doc_frequency['hadoop'], 'MapReduce':doc_frequency['mapreduce'],\n",
        "                'Spark':doc_frequency['spark'], 'Pig':doc_frequency['pig'],\n",
        "                'Hive':doc_frequency['hive'], 'Shark':doc_frequency['shark'],\n",
        "                'Oozie':doc_frequency['oozie'], 'ZooKeeper':doc_frequency['zookeeper'],\n",
        "                'Flume':doc_frequency['flume'], 'Mahout':doc_frequency['mahout']})\n",
        "                \n",
        "    database_dict = Counter({'SQL':doc_frequency['sql'], 'NoSQL':doc_frequency['nosql'],\n",
        "                    'HBase':doc_frequency['hbase'], 'Cassandra':doc_frequency['cassandra'],\n",
        "                    'MongoDB':doc_frequency['mongodb']})\n",
        "                     \n",
        "               \n",
        "    overall_total_skills = prog_lang_dict + analysis_tool_dict + hadoop_dict + database_dict # Combine our Counter objects\n",
        "    \n",
        "    print (overall_total_skills)    \n",
        "    \n",
        "    columns = ['Term', 'NumPostings']\n",
        "    final_frame = pd.DataFrame.from_dict(overall_total_skills,orient='index').reset_index() # Convert these terms to a \n",
        "                                                                                                # dataframe \n",
        "    final_frame = final_frame.rename(columns={'index':'Term', 0:'NumPostings'})\n",
        "    \n",
        "    # Change the values to reflect a percentage of the postings \n",
        "    \n",
        "    print (final_frame)\n",
        "    final_frame.NumPostings = (final_frame.NumPostings)*100/len(job_descriptions) # Gives percentage of job postings \n",
        "                                                                                    #  having that term \n",
        "    \n",
        "    # Sort the data for plotting purposes\n",
        "    \n",
        "    final_frame.sort_values(by = 'NumPostings', ascending = False, inplace = True)\n",
        "    \n",
        "    # Get it ready for a bar plot\n",
        "    print ('****')    \n",
        "    print (final_frame)\n",
        "    print ('Sai')\n",
        "    final_plot = final_frame.plot(x = 'Term', kind = 'bar', legend = None, \n",
        "                            title = 'Percentage of Data Scientist Job Ads with a Key Skill, ' + city_title)\n",
        "        \n",
        "    final_plot.set_ylabel('Percentage Appearing in Job Ads')\n",
        "    fig = final_plot.get_figure() # Have to convert the pandas plot object to a matplotlib object\n",
        "        \n",
        "        \n",
        "    return fig, final_frame # End of the function"
      ],
      "execution_count": 0,
      "outputs": []
    },
    {
      "cell_type": "code",
      "metadata": {
        "id": "eBq8Tioln8ef",
        "colab_type": "code",
        "colab": {},
        "outputId": "0da92b2c-3e9a-46d1-b397-8ed42e9ecad0"
      },
      "source": [
        "seattle_info = skills_info(city = 'Sacramento', state = 'CA') "
      ],
      "execution_count": 0,
      "outputs": [
        {
          "output_type": "stream",
          "text": [
            "C:\\Users\\tejks\\anaconda\\lib\\site-packages\\bs4\\__init__.py:181: UserWarning: No parser was explicitly specified, so I'm using the best available HTML parser for this system (\"lxml\"). This usually isn't a problem, but if you run this code on another system, or in a different virtual environment, it may use a different parser and behave differently.\n",
            "\n",
            "The code that caused this warning is on line 193 of the file C:\\Users\\tejks\\anaconda\\lib\\runpy.py. To get rid of this warning, change code that looks like this:\n",
            "\n",
            " BeautifulSoup(YOUR_MARKUP})\n",
            "\n",
            "to this:\n",
            "\n",
            " BeautifulSoup(YOUR_MARKUP, \"lxml\")\n",
            "\n",
            "  markup_type=markup_type))\n"
          ],
          "name": "stderr"
        },
        {
          "output_type": "stream",
          "text": [
            "b'\\n        Page 1 of 5 jobs'\n",
            "['1', '5']\n",
            "There were 50 jobs found, Sacramento\n",
            "Getting page 1\n",
            "['http://www.indeed.com/rc/clk?jk=e47ee414ef176f6c&fccid=9e215d88a6b33622&vjs=3', 'http://www.indeed.com/rc/clk?jk=d2b843287e22b825&fccid=f4822dbcf0407538&vjs=3', 'http://www.indeed.com/rc/clk?jk=21091c4562d65586&fccid=dd616958bd9ddc12&vjs=3', 'http://www.indeed.com/rc/clk?jk=309091316c50fa1e&fccid=104dac531ec80260&vjs=3']\n",
            "Getting page 2\n",
            "['http://www.indeed.com/rc/clk?jk=21091c4562d65586&fccid=dd616958bd9ddc12&vjs=3', 'http://www.indeed.com/rc/clk?jk=e47ee414ef176f6c&fccid=9e215d88a6b33622&vjs=3', 'http://www.indeed.com/rc/clk?jk=309091316c50fa1e&fccid=104dac531ec80260&vjs=3', 'http://www.indeed.com/rc/clk?jk=d2b843287e22b825&fccid=f4822dbcf0407538&vjs=3']\n",
            "Getting page 3\n",
            "['http://www.indeed.com/rc/clk?jk=21091c4562d65586&fccid=dd616958bd9ddc12&vjs=3', 'http://www.indeed.com/rc/clk?jk=e47ee414ef176f6c&fccid=9e215d88a6b33622&vjs=3', 'http://www.indeed.com/rc/clk?jk=d2b843287e22b825&fccid=f4822dbcf0407538&vjs=3', 'http://www.indeed.com/rc/clk?jk=309091316c50fa1e&fccid=104dac531ec80260&vjs=3']\n",
            "Getting page 4\n",
            "['http://www.indeed.com/rc/clk?jk=21091c4562d65586&fccid=dd616958bd9ddc12&vjs=3', 'http://www.indeed.com/rc/clk?jk=e47ee414ef176f6c&fccid=9e215d88a6b33622&vjs=3', 'http://www.indeed.com/rc/clk?jk=d2b843287e22b825&fccid=f4822dbcf0407538&vjs=3', 'http://www.indeed.com/rc/clk?jk=309091316c50fa1e&fccid=104dac531ec80260&vjs=3']\n",
            "Getting page 5\n",
            "['http://www.indeed.com/rc/clk?jk=21091c4562d65586&fccid=dd616958bd9ddc12&vjs=3', 'http://www.indeed.com/rc/clk?jk=e47ee414ef176f6c&fccid=9e215d88a6b33622&vjs=3', 'http://www.indeed.com/rc/clk?jk=d2b843287e22b825&fccid=f4822dbcf0407538&vjs=3', 'http://www.indeed.com/rc/clk?jk=309091316c50fa1e&fccid=104dac531ec80260&vjs=3']\n",
            "Done with collecting the job postings!\n",
            "There were 20 jobs successfully found.\n",
            "Counter({'R': 20, 'Python': 20, 'SQL': 18, 'Tableau': 15, 'Excel': 10, 'Hadoop': 10, 'Hive': 10, 'C++': 5, 'Perl': 5, 'Scala': 5, 'SAS': 5, 'D3': 5, 'Spark': 5})\n",
            "       Term  NumPostings\n",
            "0         R           20\n",
            "1    Python           20\n",
            "2       C++            5\n",
            "3      Perl            5\n",
            "4     Scala            5\n",
            "5     Excel           10\n",
            "6   Tableau           15\n",
            "7       SAS            5\n",
            "8        D3            5\n",
            "9    Hadoop           10\n",
            "10    Spark            5\n",
            "11     Hive           10\n",
            "12      SQL           18\n",
            "****\n",
            "       Term  NumPostings\n",
            "0         R        100.0\n",
            "1    Python        100.0\n",
            "12      SQL         90.0\n",
            "6   Tableau         75.0\n",
            "5     Excel         50.0\n",
            "9    Hadoop         50.0\n",
            "11     Hive         50.0\n",
            "2       C++         25.0\n",
            "3      Perl         25.0\n",
            "4     Scala         25.0\n",
            "7       SAS         25.0\n",
            "8        D3         25.0\n",
            "10    Spark         25.0\n",
            "Sai\n"
          ],
          "name": "stdout"
        },
        {
          "output_type": "display_data",
          "data": {
            "image/png": "[encoded data removed]",
            "text/plain": [
              "<Figure size 432x288 with 1 Axes>"
            ]
          },
          "metadata": {
            "tags": []
          }
        }
      ]
    },
    {
      "cell_type": "code",
      "metadata": {
        "id": "LzFcFT4Mn8em",
        "colab_type": "code",
        "colab": {}
      },
      "source": [
        "print (seattle_info)"
      ],
      "execution_count": 0,
      "outputs": []
    },
    {
      "cell_type": "code",
      "metadata": {
        "id": "7WmG21fjn8ex",
        "colab_type": "code",
        "colab": {}
      },
      "source": [
        ""
      ],
      "execution_count": 0,
      "outputs": []
    }
  ]
}
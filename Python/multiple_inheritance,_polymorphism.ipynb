{
  "nbformat": 4,
  "nbformat_minor": 0,
  "metadata": {
    "colab": {
      "name": "multiple_inheritance, polymorphism.ipynb",
      "provenance": []
    },
    "kernelspec": {
      "name": "python3",
      "display_name": "Python 3"
    }
  },
  "cells": [
    {
      "cell_type": "code",
      "metadata": {
        "id": "90uujJ-hxdUf"
      },
      "source": [
        "class A:\r\n",
        "  def method1(self):\r\n",
        "    print(\"method of class A\")"
      ],
      "execution_count": null,
      "outputs": []
    },
    {
      "cell_type": "code",
      "metadata": {
        "id": "SzE1WhD5ytPe"
      },
      "source": [
        "class B(A):\r\n",
        "  def method1(self):\r\n",
        "    print(\"Method of class B\")\r\n",
        "  def method2(self):\r\n",
        "    print(\"Method2 of class B\")"
      ],
      "execution_count": null,
      "outputs": []
    },
    {
      "cell_type": "code",
      "metadata": {
        "id": "hCtU0jOszVs_"
      },
      "source": [
        "class C(A):\r\n",
        "  def method1(self):\r\n",
        "    print(\"Method of class c\")\r\n",
        "  def method2(self):\r\n",
        "    print(\"Method2 of class c\")\r\n"
      ],
      "execution_count": null,
      "outputs": []
    },
    {
      "cell_type": "code",
      "metadata": {
        "id": "pTEiceA_zXtu"
      },
      "source": [
        "class D(B,C):\r\n",
        "  def method1(self):\r\n",
        "    print(\"Method of class D\")\r\n",
        "    C.method1(self)\r\n",
        "    B.method1(self)\r\n",
        "    A.method1(self)"
      ],
      "execution_count": null,
      "outputs": []
    },
    {
      "cell_type": "code",
      "metadata": {
        "id": "WYbWaEFhzmIa"
      },
      "source": [
        "d = D()"
      ],
      "execution_count": null,
      "outputs": []
    },
    {
      "cell_type": "markdown",
      "metadata": {
        "id": "w_Y1S2F4l_Uu"
      },
      "source": [
        "### Polymorphism \r\n",
        "Polymorphism in Python allows us to define methods in the child class with the same name as defined in their parent class"
      ]
    },
    {
      "cell_type": "code",
      "metadata": {
        "colab": {
          "base_uri": "https://localhost:8080/"
        },
        "id": "7khPrxokmonR",
        "outputId": "6475738b-e940-448b-cca2-1c5c5d7a7f3b"
      },
      "source": [
        "class India():\r\n",
        "     def capital(self):\r\n",
        "       print(\"New Delhi\")\r\n",
        " \r\n",
        "     def language(self):\r\n",
        "       print(\"Hindi and English\")\r\n",
        " \r\n",
        "class USA():\r\n",
        "     def capital(self):\r\n",
        "       print(\"Washington, D.C.\")\r\n",
        " \r\n",
        "     def language(self):\r\n",
        "       print(\"English\")\r\n",
        " \r\n",
        "obj_ind = India()\r\n",
        "obj_usa = USA()\r\n",
        "for country in (obj_ind, obj_usa):\r\n",
        "\r\n",
        "  country.capital()\r\n",
        "  country.language()"
      ],
      "execution_count": 2,
      "outputs": [
        {
          "output_type": "stream",
          "text": [
            "New Delhi\n",
            "Hindi and English\n",
            "Washington, D.C.\n",
            "English\n"
          ],
          "name": "stdout"
        }
      ]
    }
  ]
}
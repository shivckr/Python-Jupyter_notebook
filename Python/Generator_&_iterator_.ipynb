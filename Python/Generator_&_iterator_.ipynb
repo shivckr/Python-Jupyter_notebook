{
  "nbformat": 4,
  "nbformat_minor": 0,
  "metadata": {
    "colab": {
      "name": "Generator & iterator .ipynb",
      "provenance": [],
      "collapsed_sections": [],
      "authorship_tag": "ABX9TyNmSnO0P4D9gStYw2WLrGg1",
      "include_colab_link": true
    },
    "kernelspec": {
      "name": "python3",
      "display_name": "Python 3"
    }
  },
  "cells": [
    {
      "cell_type": "markdown",
      "metadata": {
        "id": "view-in-github",
        "colab_type": "text"
      },
      "source": [
        "<a href=\"https://colab.research.google.com/github/shivckr/Python-Projects-/blob/master/Generator_%26_iterator_.ipynb\" target=\"_parent\"><img src=\"https://colab.research.google.com/assets/colab-badge.svg\" alt=\"Open In Colab\"/></a>"
      ]
    },
    {
      "cell_type": "markdown",
      "metadata": {
        "id": "2CSoOq0R5y0j",
        "colab_type": "text"
      },
      "source": [
        "<a href= \"https://colab.research.google.com/drive/1SgAprlbpVdWDUEMr77Eeh1sPfP0cYXDX#scrollTo=2CSoOq0R5y0j\">\n",
        "<img src=\"https://colab.research.google.com/assets/colab-badge.svg\" alt=\"Open In Colab\"/>\n",
        "</a>\n",
        "\n"
      ]
    },
    {
      "cell_type": "code",
      "metadata": {
        "id": "BvyHy9DlUmHL",
        "colab_type": "code",
        "colab": {}
      },
      "source": [
        "# Generator function for the cube of numbers (power of 3)\n",
        "def gencubes(n):\n",
        "    for num in range(n):\n",
        "        yield num**3"
      ],
      "execution_count": 0,
      "outputs": []
    },
    {
      "cell_type": "code",
      "metadata": {
        "id": "UHX-jS2LVyLG",
        "colab_type": "code",
        "colab": {}
      },
      "source": [
        "# Generator function for fibonnaci sequence upto n \n",
        "def genfibon(n):\n",
        "    \"\"\"\n",
        "    Generate a fibonnaci sequence up to n\n",
        "    \"\"\"\n",
        "    a = 1\n",
        "    b = 1\n",
        "    for i in range(n):\n",
        "        yield a\n",
        "        t = a\n",
        "        a,b = b,a+b\n",
        "    return a"
      ],
      "execution_count": 0,
      "outputs": []
    },
    {
      "cell_type": "code",
      "metadata": {
        "id": "BgznweDJWmVH",
        "colab_type": "code",
        "colab": {}
      },
      "source": [
        "for num in genfibon(10):\n",
        "    print(num)\n"
      ],
      "execution_count": 0,
      "outputs": []
    },
    {
      "cell_type": "markdown",
      "metadata": {
        "id": "ukCEP5Q9GYdW",
        "colab_type": "text"
      },
      "source": [
        "# Comparison Between Python Generator vs Iterator\n",
        "Credit: data flair \n",
        "https://data-flair.training/blogs/python-generator-vs-iterator/\n",
        "\n",
        "In creating a python generator, we use a function. But in creating an iterator in python, we use the iter() and next() functions.\n"
      ]
    },
    {
      "cell_type": "markdown",
      "metadata": {
        "id": "BAM-HoplGijX",
        "colab_type": "text"
      },
      "source": [
        "A generator in python makes use of the ‘yield’ keyword. A python iterator doesn’t.\n"
      ]
    },
    {
      "cell_type": "markdown",
      "metadata": {
        "id": "XpGsIYM3GkUL",
        "colab_type": "text"
      },
      "source": [
        "Python generator saves the states of the local variables every time ‘yield’ pauses the loop in python. An iterator does not make use of local variables, all it needs is iterable to iterate on.\n"
      ]
    },
    {
      "cell_type": "markdown",
      "metadata": {
        "id": "ukqOi4I8Gnwc",
        "colab_type": "text"
      },
      "source": [
        " generator may have any number of ‘yield’ statements.\n",
        "You can implement your own iterator using a python class; a generator does not need a class in python.\n"
      ]
    },
    {
      "cell_type": "markdown",
      "metadata": {
        "id": "I-Iddvv4GzDU",
        "colab_type": "text"
      },
      "source": [
        "To write a python generator, you can either use a Python function or a comprehension. But for an iterator, you must use the iter() and next() functions.\n"
      ]
    },
    {
      "cell_type": "markdown",
      "metadata": {
        "id": "eFMDIVjPG1P-",
        "colab_type": "text"
      },
      "source": [
        "Generator in python let us write fast and compact code. This is an advantage over Python iterators. They are also simpler to code than do custom iterator.\n"
      ]
    },
    {
      "cell_type": "markdown",
      "metadata": {
        "id": "4HtUNtAlG7cv",
        "colab_type": "text"
      },
      "source": [
        "Python iterator is more memory-efficient. "
      ]
    },
    {
      "cell_type": "markdown",
      "metadata": {
        "id": "hFaPKGM9G-rY",
        "colab_type": "text"
      },
      "source": [
        "Lest see this with example below:"
      ]
    },
    {
      "cell_type": "code",
      "metadata": {
        "id": "zpHD1vfDVzum",
        "colab_type": "code",
        "colab": {}
      },
      "source": [
        "iter_obj=iter([3,4,5])\n",
        "next(iter_obj)"
      ],
      "execution_count": 0,
      "outputs": []
    },
    {
      "cell_type": "code",
      "metadata": {
        "id": "hN0uHSmeChe2",
        "colab_type": "code",
        "colab": {}
      },
      "source": [
        "def even(x):\n",
        "       while(x!=0):\n",
        "           if x%2==0:\n",
        "             yield x\n",
        "             x-=1\n"
      ],
      "execution_count": 0,
      "outputs": []
    },
    {
      "cell_type": "code",
      "metadata": {
        "id": "vWPWvSHAGNkO",
        "colab_type": "code",
        "colab": {
          "base_uri": "https://localhost:8080/",
          "height": 34
        },
        "outputId": "d6acee5d-e03f-4871-da68-2c0e4a68b694"
      },
      "source": [
        "for i in even(8):\n",
        "  print(i)"
      ],
      "execution_count": 0,
      "outputs": [
        {
          "output_type": "stream",
          "text": [
            "8\n"
          ],
          "name": "stdout"
        }
      ]
    }
  ]
}
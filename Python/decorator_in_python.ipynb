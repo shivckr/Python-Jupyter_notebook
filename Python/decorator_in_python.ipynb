{
  "nbformat": 4,
  "nbformat_minor": 0,
  "metadata": {
    "colab": {
      "name": "decorator in python.ipynb",
      "provenance": [],
      "authorship_tag": "ABX9TyN2R5/W9WnTeCHMj1/MbToX"
    },
    "kernelspec": {
      "name": "python3",
      "display_name": "Python 3"
    }
  },
  "cells": [
    {
      "cell_type": "markdown",
      "metadata": {
        "id": "fO9xGIONsrOM",
        "colab_type": "text"
      },
      "source": [
        "<a href=\"https://colab.research.google.com/drive/1Q925SDawz_dyxZ4GIN2ZtfK3IZyaJO1W#scrollTo=2zX7YBuzsSK3\">\n",
        "  <img src=\"https://colab.research.google.com/assets/colab-badge.svg\" alt=\"Open In Colab\"/>\n",
        "</a>"
      ]
    },
    {
      "cell_type": "markdown",
      "metadata": {
        "id": "CrNdyUi7pJ2j",
        "colab_type": "text"
      },
      "source": [
        "# creating a decorator"
      ]
    },
    {
      "cell_type": "code",
      "metadata": {
        "id": "bSaOFt0eqFqM",
        "colab_type": "code",
        "colab": {}
      },
      "source": [
        "def func():\n",
        "    return 1"
      ],
      "execution_count": 0,
      "outputs": []
    },
    {
      "cell_type": "code",
      "metadata": {
        "id": "eKu7j4h3pOIR",
        "colab_type": "code",
        "colab": {}
      },
      "source": [
        "def new_decorator(func):\n",
        "\n",
        "    def wrap_func():\n",
        "        print(\"Code would be here, before executing the func\")\n",
        "\n",
        "        func()\n",
        "        print(\"Code here will execute after the func()\")\n",
        "\n",
        "    return wrap_func\n",
        "\n",
        "def func_needs_decorator():\n",
        "    print(\"This function is in need of a Decorator\")"
      ],
      "execution_count": 0,
      "outputs": []
    },
    {
      "cell_type": "code",
      "metadata": {
        "id": "72kaBesMp-j5",
        "colab_type": "code",
        "outputId": "74ed6883-dd6e-4675-c5c3-432f9ed0966e",
        "colab": {
          "base_uri": "https://localhost:8080/",
          "height": 34
        }
      },
      "source": [
        "func_needs_decorator()"
      ],
      "execution_count": 0,
      "outputs": [
        {
          "output_type": "stream",
          "text": [
            "This function is in need of a Decorator\n"
          ],
          "name": "stdout"
        }
      ]
    },
    {
      "cell_type": "code",
      "metadata": {
        "id": "WjGZ00u1qi_O",
        "colab_type": "code",
        "colab": {}
      },
      "source": [
        "# Reassign func_needs_decorator\n",
        "#func_needs_decorator = new_decorator(func_needs_decorator)"
      ],
      "execution_count": 0,
      "outputs": []
    },
    {
      "cell_type": "code",
      "metadata": {
        "id": "nTKjjszqqobM",
        "colab_type": "code",
        "outputId": "09775ad5-d6d1-42dd-c4c2-af9e825d3490",
        "colab": {
          "base_uri": "https://localhost:8080/",
          "height": 68
        }
      },
      "source": [
        "func_needs_decorator()"
      ],
      "execution_count": 0,
      "outputs": [
        {
          "output_type": "stream",
          "text": [
            "Code would be here, before executing the func\n",
            "This function is in need of a Decorator\n",
            "Code here will execute after the func()\n"
          ],
          "name": "stdout"
        }
      ]
    },
    {
      "cell_type": "code",
      "metadata": {
        "id": "4lYwnupMsQog",
        "colab_type": "code",
        "colab": {}
      },
      "source": [
        ""
      ],
      "execution_count": 0,
      "outputs": []
    },
    {
      "cell_type": "markdown",
      "metadata": {
        "id": "yl0zi19zrMgX",
        "colab_type": "text"
      },
      "source": [
        "# let's understand how we can rewrite this code using the @ symbol, which is what Python uses for Decorators:"
      ]
    },
    {
      "cell_type": "code",
      "metadata": {
        "id": "2J1hFIz2rY95",
        "colab_type": "code",
        "colab": {}
      },
      "source": [
        "@new_decorator\n",
        "def func_needs_decorator():\n",
        "    print(\"This function is in need of a Decorator\")"
      ],
      "execution_count": 0,
      "outputs": []
    }
  ]
}
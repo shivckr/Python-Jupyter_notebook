{
  "nbformat": 4,
  "nbformat_minor": 0,
  "metadata": {
    "colab": {
      "name": "Scipy_.ipynb",
      "provenance": []
    },
    "kernelspec": {
      "name": "python3",
      "display_name": "Python 3"
    }
  },
  "cells": [
    {
      "cell_type": "code",
      "metadata": {
        "id": "Ic2EFu2pgWUt"
      },
      "source": [
        "from scipy import cluster "
      ],
      "execution_count": 1,
      "outputs": []
    },
    {
      "cell_type": "code",
      "metadata": {
        "colab": {
          "base_uri": "https://localhost:8080/"
        },
        "id": "W427YlW0gikM",
        "outputId": "12b278fb-715a-44c1-af11-5facad9047c9"
      },
      "source": [
        "# help function\r\n",
        "help(cluster)"
      ],
      "execution_count": 2,
      "outputs": [
        {
          "output_type": "stream",
          "text": [
            "Help on package scipy.cluster in scipy:\n",
            "\n",
            "NAME\n",
            "    scipy.cluster\n",
            "\n",
            "DESCRIPTION\n",
            "    =========================================\n",
            "    Clustering package (:mod:`scipy.cluster`)\n",
            "    =========================================\n",
            "    \n",
            "    .. currentmodule:: scipy.cluster\n",
            "    \n",
            "    :mod:`scipy.cluster.vq`\n",
            "    \n",
            "    Clustering algorithms are useful in information theory, target detection,\n",
            "    communications, compression, and other areas.  The `vq` module only\n",
            "    supports vector quantization and the k-means algorithms.\n",
            "    \n",
            "    :mod:`scipy.cluster.hierarchy`\n",
            "    \n",
            "    The `hierarchy` module provides functions for hierarchical and\n",
            "    agglomerative clustering.  Its features include generating hierarchical\n",
            "    clusters from distance matrices,\n",
            "    calculating statistics on clusters, cutting linkages\n",
            "    to generate flat clusters, and visualizing clusters with dendrograms.\n",
            "\n",
            "PACKAGE CONTENTS\n",
            "    _hierarchy\n",
            "    _optimal_leaf_ordering\n",
            "    _vq\n",
            "    hierarchy\n",
            "    setup\n",
            "    tests (package)\n",
            "    vq\n",
            "\n",
            "DATA\n",
            "    __all__ = ['vq', 'hierarchy']\n",
            "\n",
            "FILE\n",
            "    /usr/local/lib/python3.7/dist-packages/scipy/cluster/__init__.py\n",
            "\n",
            "\n"
          ],
          "name": "stdout"
        }
      ]
    },
    {
      "cell_type": "code",
      "metadata": {
        "id": "Kaz-E2iZgooh"
      },
      "source": [
        "help()"
      ],
      "execution_count": null,
      "outputs": []
    },
    {
      "cell_type": "markdown",
      "metadata": {
        "id": "-ZUOqJeUrSCg"
      },
      "source": [
        "### special module in scipy"
      ]
    },
    {
      "cell_type": "code",
      "metadata": {
        "id": "tSy1t6Eyg3gT"
      },
      "source": [
        "# exponentia1 function\r\n",
        "from scipy import special"
      ],
      "execution_count": 5,
      "outputs": []
    },
    {
      "cell_type": "code",
      "metadata": {
        "colab": {
          "base_uri": "https://localhost:8080/"
        },
        "id": "8ICuY-0ohGA-",
        "outputId": "3152ec9f-0fc6-445a-f920-58c585ca269c"
      },
      "source": [
        "#exponential function\r\n",
        "a= special.exp2(4)\r\n",
        "a"
      ],
      "execution_count": 10,
      "outputs": [
        {
          "output_type": "execute_result",
          "data": {
            "text/plain": [
              "16.0"
            ]
          },
          "metadata": {
            "tags": []
          },
          "execution_count": 10
        }
      ]
    },
    {
      "cell_type": "markdown",
      "metadata": {
        "id": "Oug57z_Bt179"
      },
      "source": [
        "### Trigonometric fucntion"
      ]
    },
    {
      "cell_type": "code",
      "metadata": {
        "colab": {
          "base_uri": "https://localhost:8080/"
        },
        "id": "uW0fHNgirPMA",
        "outputId": "b72d8df2-dd34-495a-c8a2-6cbcfb1277d6"
      },
      "source": [
        "#sine function\r\n",
        "c = special.sindg(90)\r\n",
        "c"
      ],
      "execution_count": 11,
      "outputs": [
        {
          "output_type": "execute_result",
          "data": {
            "text/plain": [
              "1.0"
            ]
          },
          "metadata": {
            "tags": []
          },
          "execution_count": 11
        }
      ]
    },
    {
      "cell_type": "code",
      "metadata": {
        "colab": {
          "base_uri": "https://localhost:8080/"
        },
        "id": "zbKiDjMErpyh",
        "outputId": "643b2144-0c60-4506-e9be-a8a7b2e89e89"
      },
      "source": [
        "#cosine function\r\n",
        "d = special.cosdg(90)\r\n",
        "d"
      ],
      "execution_count": 12,
      "outputs": [
        {
          "output_type": "execute_result",
          "data": {
            "text/plain": [
              "-0.0"
            ]
          },
          "metadata": {
            "tags": []
          },
          "execution_count": 12
        }
      ]
    },
    {
      "cell_type": "markdown",
      "metadata": {
        "id": "6QCVSJ5EtPK_"
      },
      "source": [
        "### integration function "
      ]
    },
    {
      "cell_type": "code",
      "metadata": {
        "id": "Vk1u0jeUrtf0"
      },
      "source": [
        "from scipy import integrate"
      ],
      "execution_count": 21,
      "outputs": []
    },
    {
      "cell_type": "code",
      "metadata": {
        "id": "We2RcUaNr7bn"
      },
      "source": [
        "help(integrate.quad)"
      ],
      "execution_count": null,
      "outputs": []
    },
    {
      "cell_type": "code",
      "metadata": {
        "colab": {
          "base_uri": "https://localhost:8080/"
        },
        "id": "Sao3KY7Wr9JV",
        "outputId": "fa607217-0375-4eaa-eb1a-a9cc36964464"
      },
      "source": [
        "# quad function calculate integral of a function which has one variable \r\n",
        "i = scipy.integrate.quad(lambda x: special.exp10(x),0,1)\r\n",
        "i"
      ],
      "execution_count": 20,
      "outputs": [
        {
          "output_type": "execute_result",
          "data": {
            "text/plain": [
              "(3.9086503371292665, 4.3394735994897923e-14)"
            ]
          },
          "metadata": {
            "tags": []
          },
          "execution_count": 20
        }
      ]
    },
    {
      "cell_type": "code",
      "metadata": {
        "colab": {
          "base_uri": "https://localhost:8080/"
        },
        "id": "xN2rUHMgs81N",
        "outputId": "b42d20dd-af51-4843-994b-78c1f18ca041"
      },
      "source": [
        "#dblquad function calculate integral of a fucntion which has two variable \r\n",
        "e = lambda x,y : x*y**3\r\n",
        "f = lambda x : x**2\r\n",
        "g = lambda y : y**3\r\n",
        "h = scipy.integrate.dblquad(e,0,3,f,g)\r\n",
        "h"
      ],
      "execution_count": 23,
      "outputs": [
        {
          "output_type": "execute_result",
          "data": {
            "text/plain": [
              "(2542.3875, 9.518880333561636e-11)"
            ]
          },
          "metadata": {
            "tags": []
          },
          "execution_count": 23
        }
      ]
    },
    {
      "cell_type": "markdown",
      "metadata": {
        "id": "E7TwczPxw8yN"
      },
      "source": [
        "###  Fourier Transform \r\n",
        "  The Fourier Transform is an important image processing tool which is used to decompose an image into its sine and cosine components. The output of the transformation represents the image in the Fourier or frequency domain, while the input image is the spatial domain equivalent."
      ]
    },
    {
      "cell_type": "code",
      "metadata": {
        "colab": {
          "base_uri": "https://localhost:8080/"
        },
        "id": "DjW0mER-w8Da",
        "outputId": "805668a5-bcc7-41f3-d17a-fc3d62ef31f5"
      },
      "source": [
        "from scipy.fftpack import fft, ifft\r\n",
        "import numpy as np\r\n",
        "x = np.array([1,2,3,4])\r\n",
        "y = fft(x)\r\n",
        "y"
      ],
      "execution_count": 25,
      "outputs": [
        {
          "output_type": "execute_result",
          "data": {
            "text/plain": [
              "array([10.-0.j, -2.+2.j, -2.-0.j, -2.-2.j])"
            ]
          },
          "metadata": {
            "tags": []
          },
          "execution_count": 25
        }
      ]
    },
    {
      "cell_type": "code",
      "metadata": {
        "colab": {
          "base_uri": "https://localhost:8080/"
        },
        "id": "cOfrcnHFwxY_",
        "outputId": "ddc387ee-0f82-480d-9f9e-53a981dcdac6"
      },
      "source": [
        "z = ifft(x)\r\n",
        "z"
      ],
      "execution_count": 27,
      "outputs": [
        {
          "output_type": "execute_result",
          "data": {
            "text/plain": [
              "array([ 2.5-0.j , -0.5-0.5j, -0.5-0.j , -0.5+0.5j])"
            ]
          },
          "metadata": {
            "tags": []
          },
          "execution_count": 27
        }
      ]
    },
    {
      "cell_type": "markdown",
      "metadata": {
        "id": "YzkAyb063dWu"
      },
      "source": [
        "### Linear algebra"
      ]
    },
    {
      "cell_type": "code",
      "metadata": {
        "id": "d5zQ4pgA2wAe"
      },
      "source": [
        "# inverse of matrix \r\n",
        "from scipy import linalg as lg\r\n",
        "todarray= np.arange(4).reshape(2,2)\r\n",
        "todarray_inv =lg.inv(todarray)"
      ],
      "execution_count": 38,
      "outputs": []
    },
    {
      "cell_type": "code",
      "metadata": {
        "colab": {
          "base_uri": "https://localhost:8080/"
        },
        "id": "2JLx7Owy31hP",
        "outputId": "4f5a242e-eab0-4509-8696-3eb282f1fde7"
      },
      "source": [
        "todarray"
      ],
      "execution_count": 39,
      "outputs": [
        {
          "output_type": "execute_result",
          "data": {
            "text/plain": [
              "array([[0, 1],\n",
              "       [2, 3]])"
            ]
          },
          "metadata": {
            "tags": []
          },
          "execution_count": 39
        }
      ]
    },
    {
      "cell_type": "code",
      "metadata": {
        "colab": {
          "base_uri": "https://localhost:8080/"
        },
        "id": "Hcu2AV5-5N9_",
        "outputId": "f4af0634-f9b6-4b18-c797-4f99bdcf90e0"
      },
      "source": [
        "todarray_inv"
      ],
      "execution_count": 40,
      "outputs": [
        {
          "output_type": "execute_result",
          "data": {
            "text/plain": [
              "array([[-1.5,  0.5],\n",
              "       [ 1. ,  0. ]])"
            ]
          },
          "metadata": {
            "tags": []
          },
          "execution_count": 40
        }
      ]
    },
    {
      "cell_type": "markdown",
      "metadata": {
        "id": "Y_j4gS8O5qWb"
      },
      "source": [
        "#### Interpolation \r\n",
        "Interpolation is the process of estimating unknown values that fall between known values, used to construct new data points within a set of known datapoints "
      ]
    },
    {
      "cell_type": "code",
      "metadata": {
        "id": "eMkSx-m75UKM"
      },
      "source": [
        "x = np.arange(5,20)\r\n",
        "y = np.exp(x/3.0)"
      ],
      "execution_count": 43,
      "outputs": []
    },
    {
      "cell_type": "code",
      "metadata": {
        "colab": {
          "base_uri": "https://localhost:8080/"
        },
        "id": "ub2v3oQc867Z",
        "outputId": "266e5105-2d52-44be-f31f-66710d001dd4"
      },
      "source": [
        "x"
      ],
      "execution_count": 42,
      "outputs": [
        {
          "output_type": "execute_result",
          "data": {
            "text/plain": [
              "array([ 5,  6,  7,  8,  9, 10, 11, 12, 13, 14, 15, 16, 17, 18, 19])"
            ]
          },
          "metadata": {
            "tags": []
          },
          "execution_count": 42
        }
      ]
    },
    {
      "cell_type": "code",
      "metadata": {
        "colab": {
          "base_uri": "https://localhost:8080/"
        },
        "id": "uoijg7bK87uc",
        "outputId": "4cd7e11c-7c2a-41c9-9649-7f6a647122ac"
      },
      "source": [
        "y"
      ],
      "execution_count": 46,
      "outputs": [
        {
          "output_type": "execute_result",
          "data": {
            "text/plain": [
              "array([  5.29449005,   7.3890561 ,  10.3122585 ,  14.3919161 ,\n",
              "        20.08553692,  28.03162489,  39.121284  ,  54.59815003,\n",
              "        76.19785657, 106.3426754 , 148.4131591 , 207.12724889,\n",
              "       289.06936212, 403.42879349, 563.03023684])"
            ]
          },
          "metadata": {
            "tags": []
          },
          "execution_count": 46
        }
      ]
    },
    {
      "cell_type": "code",
      "metadata": {
        "colab": {
          "base_uri": "https://localhost:8080/",
          "height": 265
        },
        "id": "a0R4y71O9JY9",
        "outputId": "3e49ae5e-feb8-48e1-aead-ce11d9f29920"
      },
      "source": [
        "from matplotlib import pyplot as plt \r\n",
        "from scipy import interpolate\r\n",
        "%matplotlib inline\r\n",
        "f = interpolate.interp1d(x,y)\r\n",
        "x1 = np.arange(6,12)\r\n",
        "# estimating unknown values\r\n",
        "y1 = f(x1) \r\n",
        "plt.plot(x,y,'o',x1,y1)\r\n",
        "plt.show()"
      ],
      "execution_count": 53,
      "outputs": [
        {
          "output_type": "display_data",
          "data": {
            "image/png": "[encoded data removed]",
            "text/plain": [
              "<Figure size 432x288 with 1 Axes>"
            ]
          },
          "metadata": {
            "tags": [],
            "needs_background": "light"
          }
        }
      ]
    },
    {
      "cell_type": "code",
      "metadata": {
        "colab": {
          "base_uri": "https://localhost:8080/"
        },
        "id": "IPc1DKBz_ERK",
        "outputId": "9bda0f74-bc74-4bde-d178-50c3da7253f4"
      },
      "source": [
        "y1"
      ],
      "execution_count": 54,
      "outputs": [
        {
          "output_type": "execute_result",
          "data": {
            "text/plain": [
              "array([ 7.3890561 , 10.3122585 , 14.3919161 , 20.08553692, 28.03162489,\n",
              "       39.121284  ])"
            ]
          },
          "metadata": {
            "tags": []
          },
          "execution_count": 54
        }
      ]
    }
  ]
}
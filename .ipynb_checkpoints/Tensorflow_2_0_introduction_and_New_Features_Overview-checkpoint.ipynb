{
 "cells": [
  {
   "cell_type": "markdown",
   "metadata": {
    "colab_type": "text",
    "id": "M27qF7CTrBqc"
   },
   "source": [
    "# INTRODUCTION TO TENSORFLOW 2.0"
   ]
  },
  {
   "cell_type": "code",
   "execution_count": null,
   "metadata": {},
   "outputs": [],
   "source": [
    "code credit: Dr. Ryan Ahmed, SuperDataScience, udemy "
   ]
  },
  {
   "cell_type": "markdown",
   "metadata": {
    "colab_type": "text",
    "id": "zKfqnfhSVxTL"
   },
   "source": [
    "- There are tons of new features for Tensorflow 2.0, here we will introduce 4 of them:\n",
    "  - 1. FEATURE #1: EAGER EXECUTION BY DEFAULT\n",
    "  - 2. FEATURE #2: KERAS IS THE DEFAULT API (EASIER THAN EVER TO BUILD, TRAIN AND DEBUG MODELS) \n",
    "  - 3. FEATURE #3: TENSORBOARD\n",
    "  - 4. FEATURE #4: DISTRIBUTED STRATEGY \n",
    "\n"
   ]
  },
  {
   "cell_type": "markdown",
   "metadata": {
    "colab_type": "text",
    "id": "OMtE9TqtJsBH"
   },
   "source": [
    "# 1. FEATURE #1: EAGER EXECUTION BY DEFAULT"
   ]
  },
  {
   "cell_type": "markdown",
   "metadata": {
    "colab_type": "text",
    "id": "A_hhN6lRK7wp"
   },
   "source": [
    "- Tensorflow now enables eager execution by default!\n",
    "- Tensorflow now has eager execution by default which means you can evaluate operations immediately \n",
    "- This will make your life 10 times easier when you build and debug your AI model. \n",
    "- Eager execution means that you can now interact with TF 2.0 line by line in google colab or jupyter notebook without the need to define a graph and run sessions and all the mess we had with tensorflow 1.0.\n"
   ]
  },
  {
   "cell_type": "markdown",
   "metadata": {
    "colab_type": "text",
    "id": "zKmFmyaGunc7"
   },
   "source": [
    "# *1.A ADD TWO VARIABLES IN TENSORFLOW 1.0*"
   ]
  },
  {
   "cell_type": "code",
   "execution_count": 3,
   "metadata": {
    "colab": {},
    "colab_type": "code",
    "collapsed": true,
    "id": "-E3nIXj3hILR"
   },
   "outputs": [
    {
     "name": "stdout",
     "output_type": "stream",
     "text": [
      "\u001b[33mDEPRECATION: Python 2.7 reached the end of its life on January 1st, 2020. Please upgrade your Python as Python 2.7 is no longer maintained. pip 21.0 will drop support for Python 2.7 in January 2021. More details about Python 2 support in pip, can be found at https://pip.pypa.io/en/latest/development/release-process/#python-2-support\u001b[0m\n",
      "Defaulting to user installation because normal site-packages is not writeable\n",
      "Requirement already satisfied: tensorflow-gpu==1.13.01 in /home/shiv/.local/lib/python2.7/site-packages (1.13.1)\n",
      "Requirement already satisfied: keras-preprocessing>=1.0.5 in /home/shiv/.local/lib/python2.7/site-packages (from tensorflow-gpu==1.13.01) (1.1.2)\n",
      "Requirement already satisfied: absl-py>=0.1.6 in /home/shiv/.local/lib/python2.7/site-packages (from tensorflow-gpu==1.13.01) (0.9.0)\n",
      "Requirement already satisfied: backports.weakref>=1.0rc1 in /home/shiv/.local/lib/python2.7/site-packages (from tensorflow-gpu==1.13.01) (1.0.post1)\n",
      "Requirement already satisfied: protobuf>=3.6.1 in /home/shiv/.local/lib/python2.7/site-packages (from tensorflow-gpu==1.13.01) (3.12.2)\n",
      "Requirement already satisfied: six>=1.10.0 in /usr/lib/python2.7/dist-packages (from tensorflow-gpu==1.13.01) (1.11.0)\n",
      "Requirement already satisfied: keras-applications>=1.0.6 in /home/shiv/.local/lib/python2.7/site-packages (from tensorflow-gpu==1.13.01) (1.0.8)\n",
      "Requirement already satisfied: tensorboard<1.14.0,>=1.13.0 in /home/shiv/.local/lib/python2.7/site-packages (from tensorflow-gpu==1.13.01) (1.13.1)\n",
      "Requirement already satisfied: wheel in /usr/lib/python2.7/dist-packages (from tensorflow-gpu==1.13.01) (0.30.0)\n",
      "Requirement already satisfied: enum34>=1.1.6 in /usr/lib/python2.7/dist-packages (from tensorflow-gpu==1.13.01) (1.1.6)\n",
      "Requirement already satisfied: tensorflow-estimator<1.14.0rc0,>=1.13.0 in /home/shiv/.local/lib/python2.7/site-packages (from tensorflow-gpu==1.13.01) (1.13.0)\n",
      "Requirement already satisfied: mock>=2.0.0 in /home/shiv/.local/lib/python2.7/site-packages (from tensorflow-gpu==1.13.01) (3.0.5)\n",
      "Requirement already satisfied: gast>=0.2.0 in /home/shiv/.local/lib/python2.7/site-packages (from tensorflow-gpu==1.13.01) (0.3.3)\n",
      "Requirement already satisfied: astor>=0.6.0 in /home/shiv/.local/lib/python2.7/site-packages (from tensorflow-gpu==1.13.01) (0.8.1)\n",
      "Requirement already satisfied: numpy>=1.13.3 in /home/shiv/.local/lib/python2.7/site-packages (from tensorflow-gpu==1.13.01) (1.16.6)\n",
      "Requirement already satisfied: termcolor>=1.1.0 in /home/shiv/.local/lib/python2.7/site-packages (from tensorflow-gpu==1.13.01) (1.1.0)\n",
      "Requirement already satisfied: grpcio>=1.8.6 in /home/shiv/.local/lib/python2.7/site-packages (from tensorflow-gpu==1.13.01) (1.29.0)\n",
      "Requirement already satisfied: setuptools in /usr/lib/python2.7/dist-packages (from protobuf>=3.6.1->tensorflow-gpu==1.13.01) (39.0.1)\n",
      "Requirement already satisfied: h5py in /home/shiv/.local/lib/python2.7/site-packages (from keras-applications>=1.0.6->tensorflow-gpu==1.13.01) (2.10.0)\n",
      "Requirement already satisfied: futures>=3.1.1; python_version < \"3\" in /usr/local/lib/python2.7/dist-packages (from tensorboard<1.14.0,>=1.13.0->tensorflow-gpu==1.13.01) (3.3.0)\n",
      "Requirement already satisfied: markdown>=2.6.8 in /home/shiv/.local/lib/python2.7/site-packages (from tensorboard<1.14.0,>=1.13.0->tensorflow-gpu==1.13.01) (3.1.1)\n",
      "Requirement already satisfied: werkzeug>=0.11.15 in /home/shiv/.local/lib/python2.7/site-packages (from tensorboard<1.14.0,>=1.13.0->tensorflow-gpu==1.13.01) (1.0.1)\n",
      "Requirement already satisfied: funcsigs>=1; python_version < \"3.3\" in /home/shiv/.local/lib/python2.7/site-packages (from mock>=2.0.0->tensorflow-gpu==1.13.01) (1.0.2)\n"
     ]
    }
   ],
   "source": [
    "!pip install tensorflow-gpu==1.13.01"
   ]
  },
  {
   "cell_type": "code",
   "execution_count": 9,
   "metadata": {
    "colab": {},
    "colab_type": "code",
    "id": "S0Cx3743urFY"
   },
   "outputs": [
    {
     "ename": "ModuleNotFoundError",
     "evalue": "No module named 'tensorflow'",
     "output_type": "error",
     "traceback": [
      "\u001b[0;31m----------------------------------------------------------------------\u001b[0m",
      "\u001b[0;31mModuleNotFoundError\u001b[0m                  Traceback (most recent call last)",
      "\u001b[0;32m<ipython-input-9-dcdcf6311a9b>\u001b[0m in \u001b[0;36m<module>\u001b[0;34m()\u001b[0m\n\u001b[0;32m----> 1\u001b[0;31m \u001b[0;32mimport\u001b[0m \u001b[0mtensorflow\u001b[0m \u001b[0;32mas\u001b[0m \u001b[0mtf\u001b[0m\u001b[0;34m\u001b[0m\u001b[0;34m\u001b[0m\u001b[0m\n\u001b[0m\u001b[1;32m      2\u001b[0m \u001b[0;34m\u001b[0m\u001b[0m\n\u001b[1;32m      3\u001b[0m \u001b[0;31m# First we have a \"construction phase\" where we build a graph\u001b[0m\u001b[0;34m\u001b[0m\u001b[0;34m\u001b[0m\u001b[0;34m\u001b[0m\u001b[0m\n\u001b[1;32m      4\u001b[0m \u001b[0mx\u001b[0m \u001b[0;34m=\u001b[0m \u001b[0mtf\u001b[0m\u001b[0;34m.\u001b[0m\u001b[0mVariable\u001b[0m\u001b[0;34m(\u001b[0m\u001b[0;36m3\u001b[0m\u001b[0;34m)\u001b[0m\u001b[0;34m\u001b[0m\u001b[0;34m\u001b[0m\u001b[0m\n\u001b[1;32m      5\u001b[0m \u001b[0my\u001b[0m \u001b[0;34m=\u001b[0m \u001b[0mtf\u001b[0m\u001b[0;34m.\u001b[0m\u001b[0mVariable\u001b[0m\u001b[0;34m(\u001b[0m\u001b[0;36m5\u001b[0m\u001b[0;34m)\u001b[0m\u001b[0;34m\u001b[0m\u001b[0;34m\u001b[0m\u001b[0m\n",
      "\u001b[0;31mModuleNotFoundError\u001b[0m: No module named 'tensorflow'"
     ]
    }
   ],
   "source": [
    "import tensorflow as tf\n",
    "\n",
    "# First we have a \"construction phase\" where we build a graph\n",
    "x = tf.Variable(3)\n",
    "y = tf.Variable(5)\n",
    "\n",
    "# Tensorflow created a graph but did not execute the graph yet\n",
    "# A session is needed to run the graph \n",
    "z = tf.add(x,y)\n",
    "\n",
    "print(\"The sum of x and y is:\", z) # we did not get the expected answer, i.e: 8\n"
   ]
  },
  {
   "cell_type": "code",
   "execution_count": 0,
   "metadata": {
    "colab": {},
    "colab_type": "code",
    "id": "KUGrYZzl9jrE"
   },
   "outputs": [],
   "source": [
    "\n",
    "# \"Execution phase\" where we run a session \n",
    "# this makes it super difficult to debug and develop models\n",
    "with tf.Session() as sess:\n",
    "  sess.run(tf.global_variables_initializer()) #initialize all variables\n",
    "  z = sess.run(z) #run the session\n",
    "print(\"The sum of x and y is:\", z) # we now get the expected answer, i.e: 8\n"
   ]
  },
  {
   "cell_type": "markdown",
   "metadata": {
    "colab_type": "text",
    "id": "cAZFpNuAhUxp"
   },
   "source": [
    "# *1.B LET'S ADD TWO VARIABLES IN TENSORFLOW 2.0*"
   ]
  },
  {
   "cell_type": "code",
   "execution_count": 0,
   "metadata": {
    "colab": {},
    "colab_type": "code",
    "id": "NDYc5yDVmv-G"
   },
   "outputs": [],
   "source": [
    "!pip install tensorflow-gpu==2.0.0.alpha0"
   ]
  },
  {
   "cell_type": "code",
   "execution_count": 0,
   "metadata": {
    "colab": {},
    "colab_type": "code",
    "id": "bcFhBXxthNfu"
   },
   "outputs": [],
   "source": [
    "# TEnsorflow 2.0 still works with graphs but enable eager execution by default\n",
    "# Let's add the same variables together\n",
    "import tensorflow as tf\n",
    "x = tf.Variable(3)\n",
    "y = tf.Variable(5)\n",
    "z = tf.add(x,y) # immediate answer! \n",
    "print(\"The sum of x and y is:\", z) # we get the answer immediately!\n"
   ]
  },
  {
   "cell_type": "markdown",
   "metadata": {
    "colab_type": "text",
    "id": "NspMRqkgsYHE"
   },
   "source": [
    "# 2. FEATURE #2: KERAS IS THE DEFAULT API (EASIER THAN EVER TO TRAIN AND DEBUG) \n"
   ]
  },
  {
   "cell_type": "markdown",
   "metadata": {
    "colab_type": "text",
    "id": "MlYwVdqALF_y"
   },
   "source": [
    "- The second important feature in TF 2.0 is the use of keras as the high level API by default \n",
    "- Keras is unbelievably easy to work with! \n",
    "- Keras syntax is very pythonic and for those of you who have worked with Python before will know that python language is super easy to learn!\n",
    "- Let's build a mini artificial neural network that can classify fashion images using keras API. "
   ]
  },
  {
   "cell_type": "markdown",
   "metadata": {
    "colab_type": "text",
    "id": "FRCJsDm7KMhR"
   },
   "source": [
    "# *LET'S TRAIN A MINI NETWORK FOR IMAGE CLASSIFICATION USING TF 2.0 AND KERAS API*"
   ]
  },
  {
   "cell_type": "code",
   "execution_count": 0,
   "metadata": {
    "colab": {},
    "colab_type": "code",
    "id": "INb24nCpsWOw"
   },
   "outputs": [],
   "source": [
    "import tensorflow as tf\n",
    "\n",
    "fashion_mnist = tf.keras.datasets.fashion_mnist\n",
    "\n",
    "(train_images, train_labels), (test_images, test_labels) = fashion_mnist.load_data()"
   ]
  },
  {
   "cell_type": "code",
   "execution_count": 0,
   "metadata": {
    "colab": {},
    "colab_type": "code",
    "id": "2RJGYJxLsWD7"
   },
   "outputs": [],
   "source": [
    "model = tf.keras.Sequential([\n",
    "    tf.keras.layers.Flatten(input_shape=(28, 28)),\n",
    "    tf.keras.layers.Dense(128, activation=tf.nn.relu),\n",
    "    tf.keras.layers.Dense(10, activation=tf.nn.softmax)\n",
    "])"
   ]
  },
  {
   "cell_type": "code",
   "execution_count": 0,
   "metadata": {
    "colab": {},
    "colab_type": "code",
    "id": "nsTLNStMsnHj"
   },
   "outputs": [],
   "source": [
    "model.compile(optimizer='adam',\n",
    "              loss='sparse_categorical_crossentropy',\n",
    "              metrics=['accuracy'])"
   ]
  },
  {
   "cell_type": "code",
   "execution_count": 0,
   "metadata": {
    "colab": {},
    "colab_type": "code",
    "id": "D6o4XVlxsozr"
   },
   "outputs": [],
   "source": [
    "model.fit(train_images, train_labels, epochs=5)\n"
   ]
  },
  {
   "cell_type": "markdown",
   "metadata": {
    "colab_type": "text",
    "id": "9e1aCm2QuRJg"
   },
   "source": [
    "# 3. FEATURE #3: TENSORBOARD"
   ]
  },
  {
   "cell_type": "markdown",
   "metadata": {
    "colab_type": "text",
    "id": "BWgYbt1FQ6Dl"
   },
   "source": [
    "- Tensorboard enable us to track the network progress such as accuracy and loss throughout various epochs along with the graph showing various layers of the network which is pretty incredible!\n",
    "- In addition, tensorboard provides a built-in performance dashboard that can be used to track device placement and help us minimize bottlenecks during model execution and training. \n",
    "Let me show you how to launch tensorboard and how it works: \n"
   ]
  },
  {
   "cell_type": "markdown",
   "metadata": {
    "colab_type": "text",
    "id": "6kRMQ7-JY66k"
   },
   "source": [
    "# *3.1 EXAMPLE #1*"
   ]
  },
  {
   "cell_type": "code",
   "execution_count": 0,
   "metadata": {
    "colab": {},
    "colab_type": "code",
    "id": "HNy1R6aR9juU"
   },
   "outputs": [],
   "source": [
    "!pip install tensorflow-gpu==1.13.01 # Make Sure the Runtime Type is set to \"Python 3\" and \"GPU\"\n",
    "\n",
    "\n",
    "!pip install -q tf-nightly-2.0-preview\n",
    "# !pip install -q tf-nightly-gpu-2.0-preview\n",
    "%load_ext tensorboard\n"
   ]
  },
  {
   "cell_type": "code",
   "execution_count": 0,
   "metadata": {
    "colab": {},
    "colab_type": "code",
    "id": "IlPbQr2E6STy"
   },
   "outputs": [],
   "source": [
    "# !pip install tensorflow-gpu==2.0.0.alpha0\n",
    "import tensorflow as tf\n",
    "import datetime"
   ]
  },
  {
   "cell_type": "code",
   "execution_count": 0,
   "metadata": {
    "colab": {},
    "colab_type": "code",
    "id": "Gat7uGsE_Jie"
   },
   "outputs": [],
   "source": [
    "# Clear any logs from previous runs\n",
    "!rm -rf ./logs/ "
   ]
  },
  {
   "cell_type": "code",
   "execution_count": 0,
   "metadata": {
    "colab": {},
    "colab_type": "code",
    "id": "YcpCVlus5u9I"
   },
   "outputs": [],
   "source": [
    "fashion_mnist = tf.keras.datasets.fashion_mnist\n",
    "\n",
    "\n",
    "(train_images, train_labels), (test_images, test_labels) = fashion_mnist.load_data()\n",
    "\n",
    "\n",
    "model = tf.keras.Sequential([\n",
    "    tf.keras.layers.Flatten(input_shape=(28, 28)),\n",
    "    tf.keras.layers.Dense(128, activation=tf.nn.relu),\n",
    "    tf.keras.layers.Dense(10, activation=tf.nn.softmax)\n",
    "])\n",
    "\n",
    "\n",
    "model.compile(optimizer='adam',\n",
    "              loss='sparse_categorical_crossentropy',\n",
    "              metrics=['accuracy'])\n",
    "\n",
    "\n",
    "log_dir=\"logs/fit/\" + datetime.datetime.now().strftime(\"%Y%m%d-%H%M%S\")\n",
    "tensorboard_callback = tf.keras.callbacks.TensorBoard(log_dir=log_dir, histogram_freq=1)\n",
    "\n",
    "\n",
    "model.fit(train_images, train_labels, epochs=5, callbacks = [tensorboard_callback])\n"
   ]
  },
  {
   "cell_type": "code",
   "execution_count": 0,
   "metadata": {
    "colab": {},
    "colab_type": "code",
    "id": "jfPr9B96enb8"
   },
   "outputs": [],
   "source": [
    "%tensorboard --logdir logs/fit"
   ]
  },
  {
   "cell_type": "markdown",
   "metadata": {
    "colab_type": "text",
    "id": "iPdHOTarZCOG"
   },
   "source": [
    "# *3.2 EXAMPLE #2*"
   ]
  },
  {
   "cell_type": "code",
   "execution_count": 0,
   "metadata": {
    "colab": {},
    "colab_type": "code",
    "id": "k_-lLgTTXkPQ"
   },
   "outputs": [],
   "source": [
    "\n",
    "\n",
    "fashion_mnist = tf.keras.datasets.fashion_mnist\n",
    "\n",
    "\n",
    "(train_images, train_labels), (test_images, test_labels) = fashion_mnist.load_data()\n",
    "\n",
    "\n",
    "# Reshape training data to be = (60000, 28, 28, 1) instead of (60000, 28,28)\n",
    "train_images = train_images.reshape(60000, 28, 28, 1)\n",
    "test_images = test_images.reshape(10000, 28, 28, 1)\n",
    "\n",
    "\n",
    "from tensorflow.keras import datasets, layers, models\n",
    "\n",
    "model = models.Sequential()\n",
    "\n",
    "model.add(layers.Conv2D(6, (5,5), activation = 'relu', input_shape = (28,28,1)))\n",
    "model.add(layers.AveragePooling2D())\n",
    "\n",
    "\n",
    "model.add(layers.Conv2D(16, (5,5), activation = 'relu'))\n",
    "model.add(layers.AveragePooling2D())\n",
    "\n",
    "model.add(layers.Flatten())\n",
    "\n",
    "model.add(layers.Dense(120, activation = 'relu'))\n",
    "\n",
    "model.add(layers.Dense(84, activation = 'relu'))\n",
    "\n",
    "model.add(layers.Dense(10, activation = 'softmax'))\n",
    "model.summary()\n",
    "\n",
    "\n",
    "\n",
    "model.compile(optimizer='adam',\n",
    "              loss='sparse_categorical_crossentropy',\n",
    "              metrics=['accuracy'])\n",
    "\n",
    "\n",
    "log_dir=\"logs/fit/\" + datetime.datetime.now().strftime(\"%Y%m%d-%H%M%S\")\n",
    "tensorboard_callback = tf.keras.callbacks.TensorBoard(log_dir=log_dir, histogram_freq=1)\n",
    "\n",
    "\n",
    "model.fit(train_images, train_labels, epochs=5, callbacks = [tensorboard_callback])\n"
   ]
  },
  {
   "cell_type": "code",
   "execution_count": 0,
   "metadata": {
    "colab": {},
    "colab_type": "code",
    "id": "cqRr0e457_Lw"
   },
   "outputs": [],
   "source": [
    "%tensorboard --logdir logs/fit"
   ]
  },
  {
   "cell_type": "markdown",
   "metadata": {
    "colab_type": "text",
    "id": "7RQdpLe9FzPU"
   },
   "source": [
    "# 4. FEATURE #4: DISTRIBUTED STRATEGY "
   ]
  },
  {
   "cell_type": "markdown",
   "metadata": {
    "colab_type": "text",
    "id": "J0i0IhTNTVxV"
   },
   "source": [
    "- Tensorflow enables distributed strategy which allows developers to develop the model once and then decide how do they want to run it, over multiple GPUs or TPUs. \n",
    "- This will dramatically improve the computational efficiency with just two additional lines of code\n"
   ]
  },
  {
   "cell_type": "code",
   "execution_count": 0,
   "metadata": {
    "colab": {
     "base_uri": "https://localhost:8080/",
     "height": 637
    },
    "colab_type": "code",
    "id": "dOkwMjgRFzIo",
    "outputId": "e4742350-0334-4088-fedc-44db90f98499"
   },
   "outputs": [
    {
     "name": "stdout",
     "output_type": "stream",
     "text": [
      "Collecting tensorflow-gpu==2.0.0.alpha0\n",
      "\u001b[?25l  Downloading https://files.pythonhosted.org/packages/1a/66/32cffad095253219d53f6b6c2a436637bbe45ac4e7be0244557210dc3918/tensorflow_gpu-2.0.0a0-cp36-cp36m-manylinux1_x86_64.whl (332.1MB)\n",
      "\u001b[K     |████████████████████████████████| 332.1MB 56kB/s \n",
      "\u001b[?25hRequirement already satisfied: absl-py>=0.7.0 in /usr/local/lib/python3.6/dist-packages (from tensorflow-gpu==2.0.0.alpha0) (0.7.1)\n",
      "Requirement already satisfied: google-pasta>=0.1.2 in /usr/local/lib/python3.6/dist-packages (from tensorflow-gpu==2.0.0.alpha0) (0.1.7)\n",
      "Requirement already satisfied: keras-applications>=1.0.6 in /usr/local/lib/python3.6/dist-packages (from tensorflow-gpu==2.0.0.alpha0) (1.0.8)\n",
      "Requirement already satisfied: numpy<2.0,>=1.14.5 in /usr/local/lib/python3.6/dist-packages (from tensorflow-gpu==2.0.0.alpha0) (1.16.4)\n",
      "Requirement already satisfied: gast>=0.2.0 in /usr/local/lib/python3.6/dist-packages (from tensorflow-gpu==2.0.0.alpha0) (0.2.2)\n",
      "Requirement already satisfied: six>=1.10.0 in /usr/local/lib/python3.6/dist-packages (from tensorflow-gpu==2.0.0.alpha0) (1.12.0)\n",
      "Collecting tb-nightly<1.14.0a20190302,>=1.14.0a20190301 (from tensorflow-gpu==2.0.0.alpha0)\n",
      "\u001b[?25l  Downloading https://files.pythonhosted.org/packages/a9/51/aa1d756644bf4624c03844115e4ac4058eff77acd786b26315f051a4b195/tb_nightly-1.14.0a20190301-py3-none-any.whl (3.0MB)\n",
      "\u001b[K     |████████████████████████████████| 3.0MB 50.2MB/s \n",
      "\u001b[?25hRequirement already satisfied: protobuf>=3.6.1 in /usr/local/lib/python3.6/dist-packages (from tensorflow-gpu==2.0.0.alpha0) (3.7.1)\n",
      "Collecting tf-estimator-nightly<1.14.0.dev2019030116,>=1.14.0.dev2019030115 (from tensorflow-gpu==2.0.0.alpha0)\n",
      "\u001b[?25l  Downloading https://files.pythonhosted.org/packages/13/82/f16063b4eed210dc2ab057930ac1da4fbe1e91b7b051a6c8370b401e6ae7/tf_estimator_nightly-1.14.0.dev2019030115-py2.py3-none-any.whl (411kB)\n",
      "\u001b[K     |████████████████████████████████| 419kB 49.7MB/s \n",
      "\u001b[?25hRequirement already satisfied: grpcio>=1.8.6 in /usr/local/lib/python3.6/dist-packages (from tensorflow-gpu==2.0.0.alpha0) (1.15.0)\n",
      "Requirement already satisfied: astor>=0.6.0 in /usr/local/lib/python3.6/dist-packages (from tensorflow-gpu==2.0.0.alpha0) (0.8.0)\n",
      "Requirement already satisfied: wheel>=0.26 in /usr/local/lib/python3.6/dist-packages (from tensorflow-gpu==2.0.0.alpha0) (0.33.6)\n",
      "Requirement already satisfied: termcolor>=1.1.0 in /usr/local/lib/python3.6/dist-packages (from tensorflow-gpu==2.0.0.alpha0) (1.1.0)\n",
      "Requirement already satisfied: keras-preprocessing>=1.0.5 in /usr/local/lib/python3.6/dist-packages (from tensorflow-gpu==2.0.0.alpha0) (1.1.0)\n",
      "Requirement already satisfied: h5py in /usr/local/lib/python3.6/dist-packages (from keras-applications>=1.0.6->tensorflow-gpu==2.0.0.alpha0) (2.8.0)\n",
      "Requirement already satisfied: werkzeug>=0.11.15 in /usr/local/lib/python3.6/dist-packages (from tb-nightly<1.14.0a20190302,>=1.14.0a20190301->tensorflow-gpu==2.0.0.alpha0) (0.15.5)\n",
      "Requirement already satisfied: markdown>=2.6.8 in /usr/local/lib/python3.6/dist-packages (from tb-nightly<1.14.0a20190302,>=1.14.0a20190301->tensorflow-gpu==2.0.0.alpha0) (3.1.1)\n",
      "Requirement already satisfied: setuptools in /usr/local/lib/python3.6/dist-packages (from protobuf>=3.6.1->tensorflow-gpu==2.0.0.alpha0) (41.2.0)\n",
      "Installing collected packages: tb-nightly, tf-estimator-nightly, tensorflow-gpu\n",
      "Successfully installed tb-nightly-1.14.0a20190301 tensorflow-gpu-2.0.0a0 tf-estimator-nightly-1.14.0.dev2019030115\n",
      "Downloading data from https://storage.googleapis.com/tensorflow/tf-keras-datasets/train-labels-idx1-ubyte.gz\n",
      "32768/29515 [=================================] - 0s 0us/step\n",
      "Downloading data from https://storage.googleapis.com/tensorflow/tf-keras-datasets/train-images-idx3-ubyte.gz\n",
      "26427392/26421880 [==============================] - 0s 0us/step\n",
      "Downloading data from https://storage.googleapis.com/tensorflow/tf-keras-datasets/t10k-labels-idx1-ubyte.gz\n",
      "8192/5148 [===============================================] - 0s 0us/step\n",
      "Downloading data from https://storage.googleapis.com/tensorflow/tf-keras-datasets/t10k-images-idx3-ubyte.gz\n",
      "4423680/4422102 [==============================] - 0s 0us/step\n"
     ]
    }
   ],
   "source": [
    "!pip install tensorflow-gpu==2.0.0.alpha0\n",
    "\n",
    "import tensorflow as tf\n",
    "import datetime\n",
    "\n",
    "fashion_mnist = tf.keras.datasets.fashion_mnist\n",
    "\n",
    "(train_images, train_labels), (test_images, test_labels) = fashion_mnist.load_data()\n",
    "\n",
    "\n",
    "strategy = tf.distribute.MirroredStrategy()\n",
    "\n",
    "with strategy.scope():\n",
    "  model = tf.keras.Sequential([\n",
    "    tf.keras.layers.Flatten(input_shape=(28, 28)),\n",
    "    tf.keras.layers.Dense(128, activation=tf.nn.relu),\n",
    "    tf.keras.layers.Dense(10, activation=tf.nn.softmax)\n",
    "    ])\n",
    "\n",
    "\n",
    "  model.compile(optimizer='adam',\n",
    "              loss='sparse_categorical_crossentropy',\n",
    "              metrics=['accuracy'])"
   ]
  },
  {
   "cell_type": "code",
   "execution_count": 0,
   "metadata": {
    "colab": {
     "base_uri": "https://localhost:8080/",
     "height": 206
    },
    "colab_type": "code",
    "id": "qCz6tmHhT2HN",
    "outputId": "b17591d8-dad3-4b82-8121-495c17c0a325"
   },
   "outputs": [
    {
     "name": "stdout",
     "output_type": "stream",
     "text": [
      "Epoch 1/5\n",
      "1875/1875 [==============================] - 10s 5ms/step - loss: 3.4091 - accuracy: 0.6775\n",
      "Epoch 2/5\n",
      "1875/1875 [==============================] - 9s 5ms/step - loss: 0.8112 - accuracy: 0.6977\n",
      "Epoch 3/5\n",
      "1875/1875 [==============================] - 9s 5ms/step - loss: 0.6915 - accuracy: 0.7272\n",
      "Epoch 4/5\n",
      "1875/1875 [==============================] - 9s 5ms/step - loss: 0.6290 - accuracy: 0.7591\n",
      "Epoch 5/5\n",
      "1875/1875 [==============================] - 9s 5ms/step - loss: 0.5800 - accuracy: 0.7887\n"
     ]
    },
    {
     "data": {
      "text/plain": [
       "<tensorflow.python.keras.callbacks.History at 0x7f4ca3fc1b00>"
      ]
     },
     "execution_count": 2,
     "metadata": {
      "tags": []
     },
     "output_type": "execute_result"
    }
   ],
   "source": [
    "model.fit(train_images, train_labels, epochs=5)\n"
   ]
  },
  {
   "cell_type": "markdown",
   "metadata": {
    "colab_type": "text",
    "id": "27OgYEJu9EFV"
   },
   "source": [
    "# EXCELLENT JOB! NOW YOU'RE FAMILIAR WITH TF 2.0!"
   ]
  }
 ],
 "metadata": {
  "accelerator": "GPU",
  "colab": {
   "collapsed_sections": [],
   "name": "0. Tensorflow 2.0 introduction and New Features Overview.ipynb",
   "provenance": []
  },
  "kernelspec": {
   "display_name": "Python 3",
   "language": "python",
   "name": "python3"
  },
  "language_info": {
   "codemirror_mode": {
    "name": "ipython",
    "version": 3
   },
   "file_extension": ".py",
   "mimetype": "text/x-python",
   "name": "python",
   "nbconvert_exporter": "python",
   "pygments_lexer": "ipython3",
   "version": "3.6.9"
  }
 },
 "nbformat": 4,
 "nbformat_minor": 1
}
